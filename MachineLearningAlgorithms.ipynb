{
 "cells": [
  {
   "cell_type": "markdown",
   "id": "15ab6c58",
   "metadata": {},
   "source": [
    "This notebook contains the definitions and training pipeline of the machine learning algorithms applied in the paper.\n",
    "For each algorithm, a model will be created with the same hyperparameters as the ones declared in the paper (defaults hyperparameters of <code>sklearn</code>).\n",
    "\n",
    "Said model will be trained and tested on the split already provided from the beginning of the SeqScout procedure. In this way, we can have a score that is as much as comparable as possible with the values reported by the paper.\n",
    "\n",
    "\n",
    "Then, an hyperparameter search will be conducted on the models via cross validation on the training split. The best performing model will be again trained on the full train set and tested on test set, in order to compare it to the default model.\n",
    "Each model will be compared on accuracy, precision and recall. Moreover, the confusion matrix for each best performing model will be produced."
   ]
  },
  {
   "cell_type": "code",
   "execution_count": 13,
   "id": "c8b9a967",
   "metadata": {},
   "outputs": [],
   "source": [
    "from pyspark.ml.classification import DecisionTreeClassifier\n",
    "from pyspark.ml.evaluation import MulticlassClassificationEvaluator\n",
    "from pyspark.mllib.evaluation import MulticlassMetrics\n",
    "from utils import load_df"
   ]
  },
  {
   "cell_type": "markdown",
   "id": "52173090",
   "metadata": {},
   "source": [
    "## Preliminaries and dataset loading"
   ]
  },
  {
   "cell_type": "code",
   "execution_count": 9,
   "id": "0c0e0dea",
   "metadata": {},
   "outputs": [],
   "source": [
    "spark = SparkSession.builder.appName(\"RocketLeagueL\").getOrCreate()\n",
    "\n",
    "path = \"./\"\n",
    "train = load_df(path, \"encoded_df\", spark)\n",
    "test = load_df(path, \"encoded_test\", spark)\n",
    "\n",
    "accuracy = MulticlassClassificationEvaluator(labelCol='class', predictionCol='prediction', metricName='accuracy')\n",
    "precision = MulticlassClassificationEvaluator(labelCol='class', predictionCol='prediction', metricName='weightedPrecision')\n",
    "recall = MulticlassClassificationEvaluator(labelCol='class', predictionCol='prediction', metricName='weightedRecall')"
   ]
  },
  {
   "cell_type": "markdown",
   "id": "b57ed633",
   "metadata": {},
   "source": [
    "## Decision Tree"
   ]
  },
  {
   "cell_type": "code",
   "execution_count": 15,
   "id": "a666fe24",
   "metadata": {},
   "outputs": [
    {
     "name": "stdout",
     "output_type": "stream",
     "text": [
      "+----------+-----+\n",
      "|prediction|class|\n",
      "+----------+-----+\n",
      "|       5.0|    5|\n",
      "|       6.0|    6|\n",
      "|       6.0|    6|\n",
      "|       0.0|    6|\n",
      "|       6.0|    6|\n",
      "+----------+-----+\n",
      "only showing top 5 rows\n",
      "\n",
      "Accuracy: \n",
      "0.7333333333333333\n",
      "Weighted precision: \n",
      "0.8226527149321267\n",
      "Weighted recall: \n",
      "0.7333333333333333\n"
     ]
    }
   ],
   "source": [
    "dtc = DecisionTreeClassifier(featuresCol='features', labelCol='class', maxDepth=30)\n",
    "# apparently 30 is the currently supported maximum depth for pyspark\n",
    "\n",
    "dtcf = dtc.fit(train)\n",
    "\n",
    "predictions = dtcf.transform(test)\n",
    "\n",
    "predictions.select(\"prediction\", \"class\").show(5)\n",
    "\n",
    "print(\"Accuracy: \")\n",
    "print(accuracy.evaluate(predictions))\n",
    "print(\"Weighted precision: \")\n",
    "print(precision.evaluate(predictions))\n",
    "print(\"Weighted recall: \")\n",
    "print(recall.evaluate(predictions))"
   ]
  },
  {
   "cell_type": "code",
   "execution_count": null,
   "id": "301b96e4",
   "metadata": {},
   "outputs": [],
   "source": []
  }
 ],
 "metadata": {
  "kernelspec": {
   "display_name": "Python 3 (ipykernel)",
   "language": "python",
   "name": "python3"
  },
  "language_info": {
   "codemirror_mode": {
    "name": "ipython",
    "version": 3
   },
   "file_extension": ".py",
   "mimetype": "text/x-python",
   "name": "python",
   "nbconvert_exporter": "python",
   "pygments_lexer": "ipython3",
   "version": "3.10.6"
  }
 },
 "nbformat": 4,
 "nbformat_minor": 5
}
