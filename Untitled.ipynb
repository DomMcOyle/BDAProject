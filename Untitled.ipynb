{
 "cells": [
  {
   "cell_type": "code",
   "execution_count": 1,
   "id": "1fb8d49b",
   "metadata": {},
   "outputs": [],
   "source": [
    "from pyspark.sql.functions import col, lit, explode, monotonically_increasing_id, posexplode\n",
    "from pyspark.sql.functions import udf,struct, collect_list\n",
    "from pyspark.sql.functions import sum as fsum\n",
    "import random\n",
    "import numpy as np\n",
    "import math\n",
    "import heapq\n",
    "import json\n",
    "import time\n",
    "from tqdm import tqdm\n",
    "import gc\n",
    "from pyspark.sql.types import StructType, StructField, DoubleType, IntegerType"
   ]
  },
  {
   "cell_type": "code",
   "execution_count": 2,
   "id": "99cd6c53",
   "metadata": {},
   "outputs": [],
   "source": [
    "#\n",
    "# cose da implementare:\n",
    "# nota: numerics_domains dovrebbe essere un dataframe con colonne \"idx\"(indice)\n",
    "# \"nome_numerics1\"... e le colonne dei numerics devono essere ordinate \n",
    "#  dataframe con valori unici dei numerici indicizzati (v)\n",
    "#  funzione per calcolare la qualità dei pattern (v)\n",
    "    # modificare il dataset in modo da inserire gli indici al posto dei valori singoli (v)\n",
    "    # modificare funzione di campionamento valori (v)\n",
    "    # aggiungere conteggi globali delle classi (v)\n",
    "#  adattare il tutto sul distribuito\n",
    "    # aggiungere funzione per il dump e recupero dei patterns (v)\n",
    "    # suddividere il carico sulle macchine e fare prima prova di avvio distribuito + salvataggio cose su hdfs\n",
    "# funzione per codificare il dataset\n",
    "#  funzioni per il training + grid search\n",
    "#  funzioni per l'esplorazione dei dati\n",
    "\n",
    "# cose da fare alla scordata:\n",
    "    # dump dei dataframe \"hashtables\"\n",
    "    # funzione di filtering e ottimizzazione prioqueue\n",
    "    \n",
    "    "
   ]
  },
  {
   "cell_type": "code",
   "execution_count": 3,
   "id": "e1570180",
   "metadata": {},
   "outputs": [],
   "source": [
    "def filter_data(data, target_class, target_col): \n",
    "    return data.filter(col(target_col) == target_class)\n",
    "\n",
    "def seq_scout(data, data_plus,target_class, numerics_max, top_k, iterations, theta, alpha): #t\n",
    "    data_support = data.count()\n",
    "    class_support = data_plus.count()\n",
    "    # create priority queue for patterns to be stored\n",
    "    pi = PriorityQueue(k=top_k, theta=theta, cap_length=True) \n",
    "    \n",
    "    # create priority queue for storing each class sequence and its UCB score\n",
    "    scores = PriorityQueue(data_plus)\n",
    "    #N = 1\n",
    "    for N in tqdm(range(1,iterations+1)):\n",
    "        _, Ni, mean_quality, sequence = scores.pop_first() # pop the sequence to be generalized\n",
    "        print\n",
    "        # generalize the sequence and add it to the patterns\n",
    "        gen_seq, new_qual = play_arm(sequence, data, target_class, numerics_max, alpha, data_support, class_support)\n",
    "        pi.add((-new_qual, to_imm_pattern(gen_seq)))\n",
    "        # update the quality and put back the sequence in the priority queue\n",
    "        updated_quality = (Ni * mean_quality + new_qual) / (Ni + 1)\n",
    "        ucb_score = compute_ucb(updated_quality, Ni + 1, N)\n",
    "        scores.add((-ucb_score, Ni + 1, updated_quality, sequence))\n",
    "        \n",
    "        #N += 1\n",
    "    \n",
    "    return pi.get_top_k() # priority queue filters automatically if theta <1\n",
    "\n",
    "def play_arm(sequence, data, target_class, numerics_max, alpha, data_support, class_support): \n",
    "    sequence_m = mutable_seq_copy(sequence)\n",
    "    # get the number of button pressed in the sequence\n",
    "    tot_num_inputs = sum([len(state[0]) for state in sequence])\n",
    "    # get a random number of input to be removed\n",
    "    input_to_remove = random.randint(0, tot_num_inputs-1)\n",
    "\n",
    "    for i in range(input_to_remove):\n",
    "        selected_state_idx = random.randint(0, len(sequence_m)-1)\n",
    "        selected_state = sequence_m[selected_state_idx][0] # we take the input itemset\n",
    "        \n",
    "        selected_state.remove(random.choice(list(selected_state))) # remove an element\n",
    "        \n",
    "        if len(selected_state) == 0: # if the state looses all the inputs, then it is removed\n",
    "            sequence_m.pop(selected_state_idx)\n",
    "    for _, numerics in sequence_m:\n",
    "        for kind, value in numerics.items():\n",
    "            # first we decide whether to remove the constraint or not\n",
    "            if random.random() < alpha:\n",
    "                numerics[kind] = [-float('inf'), float('inf')]\n",
    "            else:              \n",
    "                left_value = random.randint(0, value)\n",
    "                right_value = random.randint(value, numerics_max[kind]-1)\n",
    "\n",
    "                \n",
    "                numerics[kind] = [left_value, right_value]\n",
    "\n",
    "    # now we compute the quality measure\n",
    "    quality = compute_WRAcc(data, sequence_m, target_class, data_support, class_support)\n",
    "\n",
    "    return sequence_m, quality\n",
    "\n",
    "def compute_ucb(score, Ni, N):\n",
    "    # we choose C = 0.5\n",
    "    return (score + 0.25) * 2 + 0.5 * math.sqrt(2 * math.log(N) / Ni)\n",
    "\n",
    "\n",
    "def compute_WRAcc(data, subsequence, target_class, data_support, class_support): \n",
    "    # data support and class support were passed as it is useless to compute them everytime\n",
    "    schema = StructType([\n",
    "        StructField(\"sub_support\", IntegerType(),False),\n",
    "        StructField(\"sub_sup_c\", IntegerType(), False)\n",
    "    ])\n",
    "    udf_subsequence = udf(lambda x,y,z: is_subsequence(subsequence,target_class, x, y, z), schema)\n",
    "    support_data = data.select(udf_subsequence(data.input_sequence,\n",
    "                                               data.enc_num_sequence,\n",
    "                                              col(\"class\")).alias(\"tmp\")).select(fsum(\"tmp.sub_support\").alias(\"sub_support\"),\n",
    "                                                                                 fsum(\"tmp.sub_sup_c\").alias(\"sub_sup_c\"))\n",
    "    sums = support_data.head()\n",
    "    support = sums[\"sub_support\"]\n",
    "    class_pattern_count = sums[\"sub_sup_c\"]\n",
    "\n",
    "    del sums \n",
    "    del support_data\n",
    "    try:\n",
    "        class_pattern_ratio = class_pattern_count / support\n",
    "    except ZeroDivisionError:\n",
    "        return -0.25\n",
    "\n",
    "    class_data_ratio = class_support / data_support\n",
    "    #if support>1:\n",
    "    #    print(f\"class_pattern_count {class_pattern_count}\")\n",
    "    #    print(f\"support {support}\")\n",
    "    #    print(f\"class_pattern_ratio {class_pattern_ratio}\")\n",
    "    #    print(f\"class_data_ratio {class_data_ratio}\")\n",
    "    wracc = support / data_support * (class_pattern_ratio - class_data_ratio)\n",
    "    if support>1:\n",
    "        print(wracc)\n",
    "    return wracc\n",
    "\n",
    "def is_subsequence(subsequence,classsub, sequence_input, sequence_num, classsuper):\n",
    "    # sequence input is a list of lists of strings\n",
    "    # sequence num is a list of rows\n",
    "    i_sub = 0\n",
    "    i_seq = 0\n",
    "    while i_sub<len(subsequence) and i_seq<len(sequence_input):\n",
    "        if subsequence[i_sub][0].issubset(sequence_input[i_seq]):\n",
    "            if all([value >= subsequence[i_sub][1][numeric][0] and value <= subsequence[i_sub][1][numeric][1] for numeric, value in\n",
    "                    sequence_num[i_seq].asDict().items()]):\n",
    "                i_sub += 1\n",
    "        i_seq += 1\n",
    "        \n",
    "    if i_sub == len(subsequence):\n",
    "        is_sub = 1\n",
    "    else:\n",
    "        is_sub = 0\n",
    "    \n",
    "    if classsub is not None:\n",
    "        if is_sub == 1 and classsub == classsuper:\n",
    "            return (is_sub,1)\n",
    "        else:\n",
    "            return (is_sub,0)\n",
    "    else:\n",
    "        return is_sub\n",
    "    \n",
    "#1: function SEQSCOUT(budget)\n",
    "#2: \tπ ← PriorityQueue()\n",
    "#3: \tscores ← PriorityQueue() # ! sfruttare i dataframe distribuiti di spark\n",
    "\n",
    "#8: \t|while budget do \n",
    "#9: \t|\tseq, qual, Ni ← scores.bestUCB()\n",
    "#10: |\tseqp, qualp ← PlayArm(seq) #calcolo qualità parallelizzabile\n",
    "#11: |\tπ.add(seqp, qualp)\n",
    "#12: |\tscores.update(seq,Ni*qual+qualp/Ni+1 , Ni + 1)\n",
    "#3: |end while # while eseguito per ogni top esempio - non parallelizzabile?\n",
    "#4:  \n",
    "#15: return π.topKNonRedundant() # filtering (remove similar starting from the beginning)\n",
    "#16: end function\n",
    "\n",
    "#- il filtering dei dati penso possa essere fatto automaticamente con una bella filter\n",
    "#- controlla come funziona la max del DataFrame\n",
    "#- possibile parallelizzazione 1 per ogni classe (a livello di container -> 7 esecutori max)\n",
    "#- possibile parallelizzazione sul calcolo della metrica come map + reduce\n",
    "#- priority queue con i dataframe distribuiti non ha senso, ma pi può essere implementata easy come una lista\n",
    "#\tche flitra automaticamente i migliori k"
   ]
  },
  {
   "cell_type": "code",
   "execution_count": 4,
   "id": "4eace0b4",
   "metadata": {},
   "outputs": [],
   "source": [
    "def read_dataset(path):\n",
    "    DISCRETE_INPUTS = {'up', 'accelerate', 'slow', 'goal', 'left', 'boost', 'camera', 'down', 'right', 'slide', 'jump'}\n",
    "    data = []\n",
    "    with open(path, \"r\") as file:\n",
    "        dict_headers = next(file).split()\n",
    "        new_line = dict()\n",
    "        for line in file:\n",
    "            if len(line.split()) <= 1:\n",
    "                if new_line:\n",
    "                    data.append(new_line)\n",
    "                new_line = {\"input_sequence\": [] ,\"num_sequence\":[],\"class\": line.strip()}\n",
    "            else:\n",
    "                if len(dict_headers) != len(line.split()):\n",
    "                    raise ValueError('Number of data and variables do not match')\n",
    "\n",
    "                numerics = {}\n",
    "                buttons = []\n",
    "\n",
    "                for i, value in enumerate(line.split()):\n",
    "                    if dict_headers[i] in DISCRETE_INPUTS:\n",
    "                        if value == '1':\n",
    "                            buttons.append(dict_headers[i])\n",
    "                    else:\n",
    "                        numerics[dict_headers[i]] = float(value)\n",
    "\n",
    "                #state = [buttons, numerics]\n",
    "                new_line[\"input_sequence\"].append(buttons)\n",
    "                new_line[\"num_sequence\"].append(numerics)\n",
    "        data.append(new_line)\n",
    "    return data\n"
   ]
  },
  {
   "cell_type": "code",
   "execution_count": 5,
   "id": "1963bc1d",
   "metadata": {},
   "outputs": [],
   "source": [
    "def get_numerics(df):\n",
    "    subfields = df.schema[\"num_sequence\"].dataType.elementType.fieldNames()\n",
    "    numerics_domains = {}\n",
    "    numerics_max = {}\n",
    "    for c in subfields:\n",
    "        field = \"num_sequence.\" + c\n",
    "        no_idx = df.select(explode(field).alias(c)).distinct().orderBy(c)\n",
    "        numerics_domains[c] = no_idx.withColumn(\"idx\", monotonically_increasing_id())\n",
    "        numerics_max[\"idx\"+c] = numerics_domains[c].count()\n",
    "    return numerics_domains, numerics_max\n",
    "\n",
    "def convert_numerics(df, numerics_domains):\n",
    "    workdf = df.select(col(\"id\").alias(\"_id\"),posexplode(\"num_sequence\").alias(\"pos\",\"exp\")).select(\"_id\", \"pos\", \"exp.*\")\n",
    "    needed_columns = [i for i in numerics_domains.keys()]\n",
    "    needed_columns.append(\"pos\")\n",
    "    needed_columns.append(\"_id\")\n",
    "    for kind, unique_df in numerics_domains.items():\n",
    "        print(\"processing \" + kind + \"...\")\n",
    "        expr1 = kind + \" as _\" + kind\n",
    "        expr2 = \"idx as idx\" + kind\n",
    "        workdf = workdf.join(unique_df.selectExpr(expr1, expr2), col(kind)==col(\"_\"+kind))\n",
    "        needed_columns.remove(kind)\n",
    "        needed_columns.append(\"idx\"+kind)\n",
    "        workdf = workdf.select(needed_columns)\n",
    "    needed_columns.remove(\"_id\")\n",
    "    needed_columns.remove(\"pos\")\n",
    "    workdf = workdf.orderBy(\"_id\", \"pos\")\n",
    "    workdf = workdf.groupBy(\"_id\", \"pos\").agg(collect_list(struct([col(i) for i in needed_columns])).alias(\"enc_num_sequence\"))\n",
    "    return workdf.groupBy(\"_id\").agg(collect_list(col(\"enc_num_sequence\")[0]).alias(\"enc_num_sequence\"))"
   ]
  },
  {
   "cell_type": "code",
   "execution_count": 6,
   "id": "796f6d6c",
   "metadata": {},
   "outputs": [],
   "source": [
    "def import_imm_sequence(seq):\n",
    "    return tuple([tuple([frozenset(seq[0][i]), tuple(sorted(seq[1][i].asDict().items()))]) for i in range(len(seq[0]))])\n",
    "def mutable_seq_copy(seq):\n",
    "    copy = []\n",
    "    for i in seq:\n",
    "        input_set = set(i[0])\n",
    "        num_dict = {j[0] : j[1] for j in i[1]}\n",
    "        copy.append([input_set, num_dict])\n",
    "    return copy\n",
    "        \n",
    "def to_imm_pattern(pattern):\n",
    "    return tuple([tuple([frozenset(i[0]), tuple(sorted([(key, tuple(value)) for key, value in i[1].items()]))]) for i in\n",
    "                  pattern])\n",
    "\n",
    "def save_patterns(patterns, filename):\n",
    "    with open(filename, \"wb\") as file:\n",
    "        pickle.dump(patterns, file)\n",
    "\n",
    "def load_patterns(filename):\n",
    "    with open(filename, \"rb\") as file:\n",
    "        to_return = pickle.load(filename)\n",
    "    return to_return"
   ]
  },
  {
   "cell_type": "code",
   "execution_count": 7,
   "id": "e9075253",
   "metadata": {},
   "outputs": [],
   "source": [
    "class PriorityQueue(object):\n",
    "    def __init__(self, data=None, k=1,theta=1, cap_length=False):\n",
    "        self.k = k\n",
    "        self.theta=theta\n",
    "        self.cap_length=cap_length if k is not None else False\n",
    "        if data is not None:  \n",
    "            self.heap = [tuple([-float('inf'), 0, 0, import_imm_sequence((x[\"input_sequence\"], x[\"enc_num_sequence\"]))]) for x in data.collect()]\n",
    "            heapq.heapify(self.heap)\n",
    "            if cap_length and len(self.heap)>self.k:\n",
    "                self.heap = heapq.nlargest(self.k, self.heap)\n",
    "            self.seq_set = set([i[-1] for i in self.heap])\n",
    "        else:\n",
    "            self.heap = []\n",
    "            self.seq_set = set()\n",
    "\n",
    "    def add(self, elem):\n",
    "        if elem[-1] not in self.seq_set:\n",
    "            heapq.heappush(self.heap, elem)\n",
    "            self.seq_set.add(elem[-1])\n",
    "            if self.cap_length and len(self.heap)>self.k:\n",
    "                self.heap = heapq.nsmallest(self.k, self.heap)\n",
    "                self.seq_set = set([i[-1] for i in self.heap])\n",
    "                #TODO add filtering if necessary\n",
    "    def pop_first(self):\n",
    "        head = heapq.heappop(self.heap)\n",
    "        self.seq_set.remove(head[-1])\n",
    "        return head\n",
    "    \n",
    "    def get_top_k(self):\n",
    "        if self.theta == 1:\n",
    "            return heapq.nsmallest(self.k, self.heap)\n",
    "        else:\n",
    "            return 0\n",
    "            #TODO add filtering\n",
    "    \n",
    "    \n",
    "    \n",
    "#            def add(self, elem):\n",
    "#        if elem[-1] not in self.seq_set:\n",
    "#            if len(self.heap)<self.k or not cap_length:\n",
    "#                heapq.heappush(self.heap, elem)\n",
    "#                self.seq_set.add(elem[-1])\n",
    "#            else:\n",
    "#                last_queue = max(self.heap, key=lambda x: x[0])\n",
    "#                if elem[0]<last_queue[0]:\n",
    "#                    \n",
    "#            if self.cap_length and len(self.heap)>self.k:\n",
    "#                self.heap = heapq.nsmallest(self.k, self.heap)\n",
    "#                self.seq_set = set([i[-1] for i in self.heap])\n",
    "#                #TODO add filtering if necessary"
   ]
  },
  {
   "cell_type": "code",
   "execution_count": 8,
   "id": "0f442b5d",
   "metadata": {},
   "outputs": [
    {
     "name": "stdout",
     "output_type": "stream",
     "text": [
      "298\n"
     ]
    }
   ],
   "source": [
    "data = read_dataset(\"/vagrant/rocket_league_skillshots.data\")\n",
    "# in case of bigger datasets, single splits could be generated on different nodes\n",
    "# and after joined as single json file\n",
    "print(len(data))"
   ]
  },
  {
   "cell_type": "code",
   "execution_count": 18,
   "id": "8e40c83b",
   "metadata": {},
   "outputs": [
    {
     "data": {
      "text/plain": [
       "array(['-1', '1', '2', '3', '5', '6', '7'], dtype='<U2')"
      ]
     },
     "execution_count": 18,
     "metadata": {},
     "output_type": "execute_result"
    }
   ],
   "source": [
    "np.unique([c['class'] for c in data])"
   ]
  },
  {
   "cell_type": "code",
   "execution_count": 9,
   "id": "316e3982",
   "metadata": {},
   "outputs": [
    {
     "name": "stdout",
     "output_type": "stream",
     "text": [
      "23/02/12 16:59:14 WARN SparkSession: Using an existing Spark session; only runtime SQL configurations will take effect.\n"
     ]
    }
   ],
   "source": [
    "\n",
    "spark = SparkSession.builder.appName(\"RocketLeagueFE\").getOrCreate()\n",
    "with open(\"source.json\", \"w\") as s:\n",
    "    s.write(json.dumps(data))"
   ]
  },
  {
   "cell_type": "code",
   "execution_count": 10,
   "id": "13eb44c4",
   "metadata": {},
   "outputs": [
    {
     "name": "stderr",
     "output_type": "stream",
     "text": [
      "                                                                                \r"
     ]
    }
   ],
   "source": [
    "df = spark.read.format(\"json\").load(\"source.json\")"
   ]
  },
  {
   "cell_type": "code",
   "execution_count": 15,
   "id": "8a4178e6",
   "metadata": {},
   "outputs": [
    {
     "data": {
      "text/plain": [
       "7"
      ]
     },
     "execution_count": 15,
     "metadata": {},
     "output_type": "execute_result"
    }
   ],
   "source": [
    "df.select(\"class\").distinct().count()"
   ]
  },
  {
   "cell_type": "code",
   "execution_count": 13,
   "id": "3e0184d5",
   "metadata": {},
   "outputs": [
    {
     "name": "stdout",
     "output_type": "stream",
     "text": [
      "root\n",
      " |-- class: string (nullable = true)\n",
      " |-- input_sequence: array (nullable = true)\n",
      " |    |-- element: array (containsNull = true)\n",
      " |    |    |-- element: string (containsNull = true)\n",
      " |-- num_sequence: array (nullable = true)\n",
      " |    |-- element: struct (containsNull = true)\n",
      " |    |    |-- BallAcceleration: double (nullable = true)\n",
      " |    |    |-- BallSpeed: double (nullable = true)\n",
      " |    |    |-- DistanceBall: double (nullable = true)\n",
      " |    |    |-- DistanceCeil: double (nullable = true)\n",
      " |    |    |-- DistanceWall: double (nullable = true)\n",
      " |    |    |-- PlayerSpeed: double (nullable = true)\n",
      " |    |    |-- Time: double (nullable = true)\n",
      "\n",
      "+-----+--------------------+--------------------+\n",
      "|class|      input_sequence|        num_sequence|\n",
      "+-----+--------------------+--------------------+\n",
      "|    6|[[right, jump], [...|[{1636.7987723122...|\n",
      "|   -1|[[boost, right, j...|[{0.0, 33685.8395...|\n",
      "|   -1|[[right, jump], [...|[{124246.29375405...|\n",
      "|   -1|[[right, slide, j...|[{-8210.634011562...|\n",
      "|   -1|[[right], [boost,...|[{1197.5360615055...|\n",
      "|    6|[[boost, right, j...|[{14578.192522981...|\n",
      "|    1|[[down, right], [...|[{0.0, 170001.715...|\n",
      "|    7|[[right], [right,...|[{4250.8600994742...|\n",
      "|    1|[[right, jump], [...|[{-8323.881952792...|\n",
      "|    6|[[slide], [right]...|[{31754.862957944...|\n",
      "|    2|[[boost, right, j...|[{-301.7738125810...|\n",
      "|    1|[[right], [right,...|[{0.0, 25761.9695...|\n",
      "|    7|[[right, slide], ...|[{0.0, 123286.730...|\n",
      "|    6|[[right, slide, j...|[{6963.6507997466...|\n",
      "|    2|[[right, slide, j...|[{-4735.002465468...|\n",
      "|    1|[[right, slide, j...|[{-9574.096758853...|\n",
      "|    2|[[down, slide], [...|[{-1985.327081700...|\n",
      "|    1|[[right], [boost,...|[{-2166.355471804...|\n",
      "|   -1|[[right], [right,...|[{-5206.415291519...|\n",
      "|    5|[[right], [camera...|[{103772.19254349...|\n",
      "+-----+--------------------+--------------------+\n",
      "only showing top 20 rows\n",
      "\n"
     ]
    }
   ],
   "source": [
    "df.printSchema()\n",
    "df.show()"
   ]
  },
  {
   "cell_type": "code",
   "execution_count": 15,
   "id": "8160d4bd",
   "metadata": {},
   "outputs": [
    {
     "name": "stdout",
     "output_type": "stream",
     "text": [
      "== Physical Plan ==\n",
      "FileScan json [class#8,input_sequence#9,num_sequence#10] Batched: false, DataFilters: [], Format: JSON, Location: InMemoryFileIndex(1 paths)[file:/vagrant/source.json], PartitionFilters: [], PushedFilters: [], ReadSchema: struct<class:string,input_sequence:array<array<string>>,num_sequence:array<struct<BallAcceleratio...\n",
      "\n",
      "\n"
     ]
    }
   ],
   "source": [
    "df.explain()"
   ]
  },
  {
   "cell_type": "code",
   "execution_count": 16,
   "id": "0c920c8f",
   "metadata": {},
   "outputs": [
    {
     "name": "stdout",
     "output_type": "stream",
     "text": [
      "processing BallAcceleration...\n",
      "processing BallSpeed...\n",
      "processing DistanceBall...\n",
      "processing DistanceCeil...\n",
      "processing DistanceWall...\n",
      "processing PlayerSpeed...\n",
      "processing Time...\n",
      "root\n",
      " |-- id: long (nullable = false)\n",
      " |-- input_sequence: array (nullable = true)\n",
      " |    |-- element: array (containsNull = true)\n",
      " |    |    |-- element: string (containsNull = true)\n",
      " |-- enc_num_sequence: array (nullable = false)\n",
      " |    |-- element: struct (containsNull = false)\n",
      " |    |    |-- idxBallAcceleration: long (nullable = false)\n",
      " |    |    |-- idxBallSpeed: long (nullable = false)\n",
      " |    |    |-- idxDistanceBall: long (nullable = false)\n",
      " |    |    |-- idxDistanceCeil: long (nullable = false)\n",
      " |    |    |-- idxDistanceWall: long (nullable = false)\n",
      " |    |    |-- idxPlayerSpeed: long (nullable = false)\n",
      " |    |    |-- idxTime: long (nullable = false)\n",
      " |-- class: string (nullable = true)\n",
      "\n"
     ]
    }
   ],
   "source": [
    "df = df.withColumn(\"id\", monotonically_increasing_id())\n",
    "numerics_domains, numerics_max = get_numerics(df)\n",
    "encoded_numerics = convert_numerics(df, numerics_domains)\n",
    "dfj = df.join(encoded_numerics, col(\"id\")==col(\"_id\")).select(\"id\",\"input_sequence\" ,\"enc_num_sequence\", \"class\")\n",
    "dfj.printSchema()"
   ]
  },
  {
   "cell_type": "code",
   "execution_count": 13,
   "id": "fa78c030",
   "metadata": {},
   "outputs": [
    {
     "name": "stdout",
     "output_type": "stream",
     "text": [
      "root\n",
      " |-- _id: long (nullable = false)\n",
      " |-- enc_num_sequence: array (nullable = false)\n",
      " |    |-- element: struct (containsNull = false)\n",
      " |    |    |-- idxBallAcceleration: long (nullable = false)\n",
      " |    |    |-- idxBallSpeed: long (nullable = false)\n",
      " |    |    |-- idxDistanceBall: long (nullable = false)\n",
      " |    |    |-- idxDistanceCeil: long (nullable = false)\n",
      " |    |    |-- idxDistanceWall: long (nullable = false)\n",
      " |    |    |-- idxPlayerSpeed: long (nullable = false)\n",
      " |    |    |-- idxTime: long (nullable = false)\n",
      "\n"
     ]
    }
   ],
   "source": [
    "encoded_numerics.printSchema()"
   ]
  },
  {
   "cell_type": "code",
   "execution_count": 18,
   "id": "320d2814",
   "metadata": {},
   "outputs": [
    {
     "name": "stdout",
     "output_type": "stream",
     "text": [
      "+---+--------------------+--------------------+-----+\n",
      "| id|      input_sequence|    enc_num_sequence|class|\n",
      "+---+--------------------+--------------------+-----+\n",
      "|  0|[[right, jump], [...|[{4250, 1141, 234...|    6|\n",
      "|  1|[[boost, right, j...|[{3454, 226, 1028...|   -1|\n",
      "|  2|[[right, jump], [...|[{5668, 4313, 161...|   -1|\n",
      "|  3|[[right, slide, j...|[{699, 3273, 4168...|   -1|\n",
      "|  4|[[right], [boost,...|[{4102, 2291, 98,...|   -1|\n",
      "|  5|[[boost, right, j...|[{5274, 3573, 146...|    6|\n",
      "|  6|[[down, right], [...|[{3454, 4278, 229...|    1|\n",
      "|  7|[[right], [right,...|[{4761, 3013, 81,...|    7|\n",
      "|  8|[[right, jump], [...|[{693, 2833, 4578...|    1|\n",
      "|  9|[[slide], [right]...|[{5408, 780, 709,...|    6|\n",
      "| 10|[[boost, right, j...|[{2939, 224, 5575...|    2|\n",
      "| 11|[[right], [right,...|[{3454, 147, 2380...|    1|\n",
      "| 12|[[right, slide], ...|[{3454, 2274, 102...|    7|\n",
      "| 13|[[right, slide, j...|[{4985, 2472, 14,...|    6|\n",
      "| 14|[[right, slide, j...|[{1074, 4293, 184...|    2|\n",
      "| 15|[[right, slide, j...|[{635, 4153, 4272...|    1|\n",
      "| 16|[[down, slide], [...|[{1781, 520, 5769...|    2|\n",
      "| 17|[[right], [boost,...|[{1708, 1283, 534...|    1|\n",
      "| 18|[[right], [right,...|[{1010, 94, 5679,...|   -1|\n",
      "| 19|[[right], [camera...|[{5620, 3464, 153...|    5|\n",
      "+---+--------------------+--------------------+-----+\n",
      "only showing top 20 rows\n",
      "\n"
     ]
    }
   ],
   "source": [
    "dfj.show()"
   ]
  },
  {
   "cell_type": "code",
   "execution_count": 19,
   "id": "32c69b18",
   "metadata": {},
   "outputs": [],
   "source": [
    "dfj.write.format(\"json\").save(\"elaborated df.json\")"
   ]
  },
  {
   "cell_type": "code",
   "execution_count": 36,
   "id": "0b93589f",
   "metadata": {},
   "outputs": [
    {
     "name": "stdout",
     "output_type": "stream",
     "text": [
      "{'idxBallAcceleration': 5747, 'idxBallSpeed': 5958, 'idxDistanceBall': 6762, 'idxDistanceCeil': 3631, 'idxDistanceWall': 5721, 'idxPlayerSpeed': 5942, 'idxTime': 5903}\n"
     ]
    }
   ],
   "source": [
    "print(numerics_max)"
   ]
  },
  {
   "cell_type": "code",
   "execution_count": 20,
   "id": "05b005ff",
   "metadata": {},
   "outputs": [],
   "source": [
    "dfa = spark.read.format(\"json\").load(\"elaborated df.json\")"
   ]
  },
  {
   "cell_type": "code",
   "execution_count": 22,
   "id": "74389bbd",
   "metadata": {},
   "outputs": [
    {
     "name": "stdout",
     "output_type": "stream",
     "text": [
      "+-----+--------------------+---+--------------------+\n",
      "|class|    enc_num_sequence| id|      input_sequence|\n",
      "+-----+--------------------+---+--------------------+\n",
      "|    6|[{4250, 1141, 234...|  0|[[right, jump], [...|\n",
      "|   -1|[{3454, 226, 1028...|  1|[[boost, right, j...|\n",
      "|   -1|[{5668, 4313, 161...|  2|[[right, jump], [...|\n",
      "|   -1|[{699, 3273, 4168...|  3|[[right, slide, j...|\n",
      "|   -1|[{4102, 2291, 98,...|  4|[[right], [boost,...|\n",
      "|    6|[{5274, 3573, 146...|  5|[[boost, right, j...|\n",
      "|    1|[{3454, 4278, 229...|  6|[[down, right], [...|\n",
      "|    7|[{4761, 3013, 81,...|  7|[[right], [right,...|\n",
      "|    1|[{693, 2833, 4578...|  8|[[right, jump], [...|\n",
      "|    6|[{5408, 780, 709,...|  9|[[slide], [right]...|\n",
      "|    2|[{2939, 224, 5575...| 10|[[boost, right, j...|\n",
      "|    1|[{3454, 147, 2380...| 11|[[right], [right,...|\n",
      "|    7|[{3454, 2274, 102...| 12|[[right, slide], ...|\n",
      "|    6|[{4985, 2472, 14,...| 13|[[right, slide, j...|\n",
      "|    2|[{1074, 4293, 184...| 14|[[right, slide, j...|\n",
      "|    1|[{635, 4153, 4272...| 15|[[right, slide, j...|\n",
      "|    2|[{1781, 520, 5769...| 16|[[down, slide], [...|\n",
      "|    1|[{1708, 1283, 534...| 17|[[right], [boost,...|\n",
      "|   -1|[{1010, 94, 5679,...| 18|[[right], [right,...|\n",
      "|    5|[{5620, 3464, 153...| 19|[[right], [camera...|\n",
      "+-----+--------------------+---+--------------------+\n",
      "only showing top 20 rows\n",
      "\n",
      "== Physical Plan ==\n",
      "FileScan json [class#626,enc_num_sequence#627,id#628L,input_sequence#629] Batched: false, DataFilters: [], Format: JSON, Location: InMemoryFileIndex(1 paths)[file:/vagrant/elaborated df.json], PartitionFilters: [], PushedFilters: [], ReadSchema: struct<class:string,enc_num_sequence:array<struct<idxBallAcceleration:bigint,idxBallSpeed:bigint,...\n",
      "\n",
      "\n"
     ]
    }
   ],
   "source": [
    "dfa.show()\n",
    "dfa.explain()"
   ]
  },
  {
   "cell_type": "code",
   "execution_count": 29,
   "id": "6375a75a",
   "metadata": {},
   "outputs": [
    {
     "name": "stderr",
     "output_type": "stream",
     "text": [
      "  0%|▎                                                                                 | 4/1000 [00:00<02:31,  6.56it/s]"
     ]
    },
    {
     "name": "stdout",
     "output_type": "stream",
     "text": [
      "0.0060357641547678035\n"
     ]
    },
    {
     "name": "stderr",
     "output_type": "stream",
     "text": [
      "  3%|██▏                                                                              | 27/1000 [00:03<02:03,  7.88it/s]"
     ]
    },
    {
     "name": "stdout",
     "output_type": "stream",
     "text": [
      "0.01105806044772758\n"
     ]
    },
    {
     "name": "stderr",
     "output_type": "stream",
     "text": [
      "  6%|████▍                                                                            | 55/1000 [00:07<01:57,  8.03it/s]"
     ]
    },
    {
     "name": "stdout",
     "output_type": "stream",
     "text": [
      "0.06657357776676726\n"
     ]
    },
    {
     "name": "stderr",
     "output_type": "stream",
     "text": [
      "  7%|█████▊                                                                           | 71/1000 [00:09<02:11,  7.09it/s]"
     ]
    },
    {
     "name": "stdout",
     "output_type": "stream",
     "text": [
      "-0.016598351425611457\n"
     ]
    },
    {
     "name": "stderr",
     "output_type": "stream",
     "text": [
      "  8%|██████▏                                                                          | 77/1000 [00:10<01:54,  8.03it/s]"
     ]
    },
    {
     "name": "stdout",
     "output_type": "stream",
     "text": [
      "-0.0004729516688437448\n"
     ]
    },
    {
     "name": "stderr",
     "output_type": "stream",
     "text": [
      "  8%|██████▋                                                                          | 83/1000 [00:10<02:02,  7.47it/s]"
     ]
    },
    {
     "name": "stdout",
     "output_type": "stream",
     "text": [
      "0.005360118913562453\n"
     ]
    },
    {
     "name": "stderr",
     "output_type": "stream",
     "text": [
      " 10%|███████▉                                                                         | 98/1000 [00:12<01:54,  7.86it/s]"
     ]
    },
    {
     "name": "stdout",
     "output_type": "stream",
     "text": [
      "0.012071528309535607\n"
     ]
    },
    {
     "name": "stderr",
     "output_type": "stream",
     "text": [
      " 12%|█████████▎                                                                      | 117/1000 [00:15<01:55,  7.67it/s]"
     ]
    },
    {
     "name": "stdout",
     "output_type": "stream",
     "text": [
      "0.008378000990946355\n"
     ]
    },
    {
     "name": "stderr",
     "output_type": "stream",
     "text": [
      " 15%|████████████                                                                    | 150/1000 [00:19<01:53,  7.52it/s]"
     ]
    },
    {
     "name": "stdout",
     "output_type": "stream",
     "text": [
      "0.005022296292959778\n"
     ]
    },
    {
     "name": "stderr",
     "output_type": "stream",
     "text": [
      " 16%|████████████▉                                                                   | 161/1000 [00:20<01:42,  8.16it/s]"
     ]
    },
    {
     "name": "stdout",
     "output_type": "stream",
     "text": [
      "0.005697941534165128\n"
     ]
    },
    {
     "name": "stderr",
     "output_type": "stream",
     "text": [
      " 16%|█████████████                                                                   | 163/1000 [00:21<01:47,  7.76it/s]"
     ]
    },
    {
     "name": "stdout",
     "output_type": "stream",
     "text": [
      "0.0026800594567812264\n"
     ]
    },
    {
     "name": "stderr",
     "output_type": "stream",
     "text": [
      " 17%|█████████████▍                                                                  | 168/1000 [00:21<01:46,  7.82it/s]"
     ]
    },
    {
     "name": "stdout",
     "output_type": "stream",
     "text": [
      "0.009053646232151704\n"
     ]
    },
    {
     "name": "stderr",
     "output_type": "stream",
     "text": [
      " 20%|████████████████▎                                                               | 204/1000 [00:26<01:38,  8.06it/s]"
     ]
    },
    {
     "name": "stdout",
     "output_type": "stream",
     "text": [
      "0.01605783523264718\n"
     ]
    },
    {
     "name": "stderr",
     "output_type": "stream",
     "text": [
      " 22%|█████████████████▋                                                              | 221/1000 [00:28<01:38,  7.92it/s]"
     ]
    },
    {
     "name": "stdout",
     "output_type": "stream",
     "text": [
      "0.024773658844196206\n"
     ]
    },
    {
     "name": "stderr",
     "output_type": "stream",
     "text": [
      " 26%|█████████████████████                                                           | 263/1000 [00:34<01:31,  8.05it/s]"
     ]
    },
    {
     "name": "stdout",
     "output_type": "stream",
     "text": [
      "0.0026800594567812264\n"
     ]
    },
    {
     "name": "stderr",
     "output_type": "stream",
     "text": [
      " 27%|█████████████████████▎                                                          | 266/1000 [00:34<01:33,  7.84it/s]"
     ]
    },
    {
     "name": "stdout",
     "output_type": "stream",
     "text": [
      "0.03348948245574524\n"
     ]
    },
    {
     "name": "stderr",
     "output_type": "stream",
     "text": [
      " 27%|█████████████████████▋                                                          | 271/1000 [00:35<01:29,  8.11it/s]"
     ]
    },
    {
     "name": "stdout",
     "output_type": "stream",
     "text": [
      "0.005697941534165128\n"
     ]
    },
    {
     "name": "stderr",
     "output_type": "stream",
     "text": [
      " 28%|██████████████████████▍                                                         | 281/1000 [00:36<01:28,  8.13it/s]"
     ]
    },
    {
     "name": "stdout",
     "output_type": "stream",
     "text": [
      "0.009031124724111527\n"
     ]
    },
    {
     "name": "stderr",
     "output_type": "stream",
     "text": [
      " 29%|██████████████████████▉                                                         | 287/1000 [00:37<01:34,  7.56it/s]"
     ]
    },
    {
     "name": "stdout",
     "output_type": "stream",
     "text": [
      "0.013738119904508808\n"
     ]
    },
    {
     "name": "stderr",
     "output_type": "stream",
     "text": [
      " 29%|███████████████████████▎                                                        | 291/1000 [00:37<01:27,  8.11it/s]"
     ]
    },
    {
     "name": "stdout",
     "output_type": "stream",
     "text": [
      "0.002004414215575875\n",
      "0.005022296292959778\n"
     ]
    },
    {
     "name": "stderr",
     "output_type": "stream",
     "text": [
      " 30%|████████████████████████▏                                                       | 303/1000 [00:39<01:24,  8.21it/s]"
     ]
    },
    {
     "name": "stdout",
     "output_type": "stream",
     "text": [
      "0.0026800594567812264\n"
     ]
    },
    {
     "name": "stderr",
     "output_type": "stream",
     "text": [
      " 35%|████████████████████████████▏                                                   | 353/1000 [00:45<01:28,  7.30it/s]"
     ]
    },
    {
     "name": "stdout",
     "output_type": "stream",
     "text": [
      "0.013715598396468628\n"
     ]
    },
    {
     "name": "stderr",
     "output_type": "stream",
     "text": [
      " 37%|█████████████████████████████▍                                                  | 368/1000 [00:47<01:18,  8.06it/s]"
     ]
    },
    {
     "name": "stdout",
     "output_type": "stream",
     "text": [
      "0.002004414215575875\n"
     ]
    },
    {
     "name": "stderr",
     "output_type": "stream",
     "text": [
      " 39%|██████████████████████████████▉                                                 | 386/1000 [00:49<01:15,  8.11it/s]"
     ]
    },
    {
     "name": "stdout",
     "output_type": "stream",
     "text": [
      "-0.0021620647718571216\n",
      "0.0026800594567812264\n"
     ]
    },
    {
     "name": "stderr",
     "output_type": "stream",
     "text": [
      " 40%|████████████████████████████████▏                                               | 403/1000 [00:51<01:14,  8.05it/s]"
     ]
    },
    {
     "name": "stdout",
     "output_type": "stream",
     "text": [
      "0.007702355749741002\n"
     ]
    },
    {
     "name": "stderr",
     "output_type": "stream",
     "text": [
      " 42%|██████████████████████████████████                                              | 425/1000 [00:54<01:10,  8.16it/s]"
     ]
    },
    {
     "name": "stdout",
     "output_type": "stream",
     "text": [
      "0.005697941534165128\n"
     ]
    },
    {
     "name": "stderr",
     "output_type": "stream",
     "text": [
      " 46%|████████████████████████████████████▌                                           | 457/1000 [00:58<01:09,  7.85it/s]"
     ]
    },
    {
     "name": "stdout",
     "output_type": "stream",
     "text": [
      "0.00871582361154903\n"
     ]
    },
    {
     "name": "stderr",
     "output_type": "stream",
     "text": [
      " 47%|█████████████████████████████████████▎                                          | 466/1000 [00:59<01:05,  8.18it/s]"
     ]
    },
    {
     "name": "stdout",
     "output_type": "stream",
     "text": [
      "-0.003085446601504436\n"
     ]
    },
    {
     "name": "stderr",
     "output_type": "stream",
     "text": [
      " 47%|█████████████████████████████████████▍                                          | 468/1000 [01:00<01:10,  7.59it/s]"
     ]
    },
    {
     "name": "stdout",
     "output_type": "stream",
     "text": [
      "0.0060357641547678035\n"
     ]
    },
    {
     "name": "stderr",
     "output_type": "stream",
     "text": [
      " 49%|██████████████████████████████████████▉                                         | 486/1000 [01:02<01:02,  8.27it/s]"
     ]
    },
    {
     "name": "stdout",
     "output_type": "stream",
     "text": [
      "0.002004414215575875\n"
     ]
    },
    {
     "name": "stderr",
     "output_type": "stream",
     "text": [
      " 50%|███████████████████████████████████████▊                                        | 497/1000 [01:03<01:02,  8.11it/s]"
     ]
    },
    {
     "name": "stdout",
     "output_type": "stream",
     "text": [
      "0.00400882843115175\n"
     ]
    },
    {
     "name": "stderr",
     "output_type": "stream",
     "text": [
      " 52%|█████████████████████████████████████████▊                                      | 522/1000 [01:07<01:02,  7.66it/s]"
     ]
    },
    {
     "name": "stdout",
     "output_type": "stream",
     "text": [
      "0.0060357641547678035\n"
     ]
    },
    {
     "name": "stderr",
     "output_type": "stream",
     "text": [
      " 53%|██████████████████████████████████████████▎                                     | 529/1000 [01:07<00:59,  7.92it/s]"
     ]
    },
    {
     "name": "stdout",
     "output_type": "stream",
     "text": [
      "0.0043241295437142484\n"
     ]
    },
    {
     "name": "stderr",
     "output_type": "stream",
     "text": [
      " 55%|███████████████████████████████████████████▌                                    | 545/1000 [01:10<01:01,  7.37it/s]"
     ]
    },
    {
     "name": "stdout",
     "output_type": "stream",
     "text": [
      "0.009053646232151704\n"
     ]
    },
    {
     "name": "stderr",
     "output_type": "stream",
     "text": [
      " 56%|████████████████████████████████████████████▌                                   | 557/1000 [01:11<01:00,  7.32it/s]"
     ]
    },
    {
     "name": "stdout",
     "output_type": "stream",
     "text": [
      "0.0060357641547678035\n"
     ]
    },
    {
     "name": "stderr",
     "output_type": "stream",
     "text": [
      " 56%|█████████████████████████████████████████████                                   | 564/1000 [01:12<00:55,  7.84it/s]"
     ]
    },
    {
     "name": "stdout",
     "output_type": "stream",
     "text": [
      "0.0006531237331651729\n"
     ]
    },
    {
     "name": "stderr",
     "output_type": "stream",
     "text": [
      " 57%|█████████████████████████████████████████████▋                                  | 571/1000 [01:13<00:54,  7.85it/s]"
     ]
    },
    {
     "name": "stdout",
     "output_type": "stream",
     "text": [
      "0.005022296292959778\n"
     ]
    },
    {
     "name": "stderr",
     "output_type": "stream",
     "text": [
      " 59%|███████████████████████████████████████████████                                 | 588/1000 [01:15<00:50,  8.13it/s]"
     ]
    },
    {
     "name": "stdout",
     "output_type": "stream",
     "text": [
      "0.00871582361154903\n"
     ]
    },
    {
     "name": "stderr",
     "output_type": "stream",
     "text": [
      " 63%|██████████████████████████████████████████████████                              | 626/1000 [01:20<00:47,  7.86it/s]"
     ]
    },
    {
     "name": "stdout",
     "output_type": "stream",
     "text": [
      "0.0026800594567812264\n"
     ]
    },
    {
     "name": "stderr",
     "output_type": "stream",
     "text": [
      " 64%|███████████████████████████████████████████████████▌                            | 645/1000 [01:22<00:45,  7.77it/s]"
     ]
    },
    {
     "name": "stdout",
     "output_type": "stream",
     "text": [
      "0.0060357641547678035\n"
     ]
    },
    {
     "name": "stderr",
     "output_type": "stream",
     "text": [
      " 66%|████████████████████████████████████████████████████▋                           | 658/1000 [01:24<00:46,  7.40it/s]"
     ]
    },
    {
     "name": "stdout",
     "output_type": "stream",
     "text": [
      "-0.002995360569343719\n"
     ]
    },
    {
     "name": "stderr",
     "output_type": "stream",
     "text": [
      " 66%|█████████████████████████████████████████████████████                           | 664/1000 [01:25<00:42,  7.96it/s]"
     ]
    },
    {
     "name": "stdout",
     "output_type": "stream",
     "text": [
      "0.05357866762758434\n"
     ]
    },
    {
     "name": "stderr",
     "output_type": "stream",
     "text": [
      " 67%|█████████████████████████████████████████████████████▎                          | 666/1000 [01:25<00:42,  7.94it/s]"
     ]
    },
    {
     "name": "stdout",
     "output_type": "stream",
     "text": [
      "0.06436646997882979\n"
     ]
    },
    {
     "name": "stderr",
     "output_type": "stream",
     "text": [
      " 69%|███████████████████████████████████████████████████████▍                        | 693/1000 [01:29<00:39,  7.71it/s]"
     ]
    },
    {
     "name": "stdout",
     "output_type": "stream",
     "text": [
      "0.06402864735822711\n"
     ]
    },
    {
     "name": "stderr",
     "output_type": "stream",
     "text": [
      " 70%|████████████████████████████████████████████████████████▍                       | 705/1000 [01:30<00:37,  7.91it/s]"
     ]
    },
    {
     "name": "stdout",
     "output_type": "stream",
     "text": [
      "0.0026800594567812264\n"
     ]
    },
    {
     "name": "stderr",
     "output_type": "stream",
     "text": [
      " 71%|████████████████████████████████████████████████████████▉                       | 711/1000 [01:31<00:36,  7.98it/s]"
     ]
    },
    {
     "name": "stdout",
     "output_type": "stream",
     "text": [
      "0.015742534120084684\n"
     ]
    },
    {
     "name": "stderr",
     "output_type": "stream",
     "text": [
      " 74%|███████████████████████████████████████████████████████████▍                    | 743/1000 [01:35<00:31,  8.09it/s]"
     ]
    },
    {
     "name": "stdout",
     "output_type": "stream",
     "text": [
      "0.04053871447232107\n",
      "0.0026575379487410473\n"
     ]
    },
    {
     "name": "stderr",
     "output_type": "stream",
     "text": [
      " 75%|███████████████████████████████████████████████████████████▋                    | 746/1000 [01:35<00:30,  8.28it/s]"
     ]
    },
    {
     "name": "stdout",
     "output_type": "stream",
     "text": [
      "0.0026800594567812264\n",
      "0.009053646232151704\n"
     ]
    },
    {
     "name": "stderr",
     "output_type": "stream",
     "text": [
      " 76%|████████████████████████████████████████████████████████████▋                   | 759/1000 [01:37<00:29,  8.18it/s]"
     ]
    },
    {
     "name": "stdout",
     "output_type": "stream",
     "text": [
      "0.010675194811044548\n"
     ]
    },
    {
     "name": "stderr",
     "output_type": "stream",
     "text": [
      " 77%|█████████████████████████████████████████████████████████████▎                  | 766/1000 [01:38<00:29,  7.86it/s]"
     ]
    },
    {
     "name": "stdout",
     "output_type": "stream",
     "text": [
      "-0.0010810323859285608\n"
     ]
    },
    {
     "name": "stderr",
     "output_type": "stream",
     "text": [
      " 77%|█████████████████████████████████████████████████████████████▌                  | 770/1000 [01:39<00:28,  8.19it/s]"
     ]
    },
    {
     "name": "stdout",
     "output_type": "stream",
     "text": [
      "0.009053646232151704\n"
     ]
    },
    {
     "name": "stderr",
     "output_type": "stream",
     "text": [
      " 84%|██████████████████████████████████████████████████████████████████▉             | 836/1000 [01:47<00:19,  8.31it/s]"
     ]
    },
    {
     "name": "stdout",
     "output_type": "stream",
     "text": [
      "0.0009909463537678483\n"
     ]
    },
    {
     "name": "stderr",
     "output_type": "stream",
     "text": [
      " 85%|███████████████████████████████████████████████████████████████████▉            | 849/1000 [01:49<00:18,  8.00it/s]"
     ]
    },
    {
     "name": "stdout",
     "output_type": "stream",
     "text": [
      "0.04484032250799514\n"
     ]
    },
    {
     "name": "stderr",
     "output_type": "stream",
     "text": [
      " 85%|████████████████████████████████████████████████████████████████████            | 851/1000 [01:49<00:21,  6.99it/s]"
     ]
    },
    {
     "name": "stdout",
     "output_type": "stream",
     "text": [
      "0.02376019098238818\n"
     ]
    },
    {
     "name": "stderr",
     "output_type": "stream",
     "text": [
      " 87%|█████████████████████████████████████████████████████████████████████▋          | 871/1000 [01:51<00:16,  8.05it/s]"
     ]
    },
    {
     "name": "stdout",
     "output_type": "stream",
     "text": [
      "0.0019818927075356966\n"
     ]
    },
    {
     "name": "stderr",
     "output_type": "stream",
     "text": [
      " 88%|██████████████████████████████████████████████████████████████████████          | 876/1000 [01:52<00:15,  8.02it/s]"
     ]
    },
    {
     "name": "stdout",
     "output_type": "stream",
     "text": [
      "0.040133327327597855\n"
     ]
    },
    {
     "name": "stderr",
     "output_type": "stream",
     "text": [
      " 90%|███████████████████████████████████████████████████████████████████████▌        | 895/1000 [01:55<00:14,  7.33it/s]"
     ]
    },
    {
     "name": "stdout",
     "output_type": "stream",
     "text": [
      "0.0060357641547678035\n"
     ]
    },
    {
     "name": "stderr",
     "output_type": "stream",
     "text": [
      " 91%|████████████████████████████████████████████████████████████████████████▌       | 907/1000 [01:56<00:11,  8.13it/s]"
     ]
    },
    {
     "name": "stdout",
     "output_type": "stream",
     "text": [
      "0.013963334984910593\n"
     ]
    },
    {
     "name": "stderr",
     "output_type": "stream",
     "text": [
      " 91%|████████████████████████████████████████████████████████████████████████▉       | 912/1000 [01:57<00:11,  7.96it/s]"
     ]
    },
    {
     "name": "stdout",
     "output_type": "stream",
     "text": [
      "-0.00815278591054457\n"
     ]
    },
    {
     "name": "stderr",
     "output_type": "stream",
     "text": [
      " 92%|██████████████████████████████████████████████████████████████████████████      | 925/1000 [01:58<00:09,  8.25it/s]"
     ]
    },
    {
     "name": "stdout",
     "output_type": "stream",
     "text": [
      "0.0033106616819062206\n"
     ]
    },
    {
     "name": "stderr",
     "output_type": "stream",
     "text": [
      " 94%|███████████████████████████████████████████████████████████████████████████▏    | 940/1000 [02:00<00:07,  7.98it/s]"
     ]
    },
    {
     "name": "stdout",
     "output_type": "stream",
     "text": [
      "0.052430070717535256\n"
     ]
    },
    {
     "name": "stderr",
     "output_type": "stream",
     "text": [
      " 95%|███████████████████████████████████████████████████████████████████████████▋    | 946/1000 [02:01<00:06,  7.93it/s]"
     ]
    },
    {
     "name": "stdout",
     "output_type": "stream",
     "text": [
      "0.009031124724111527\n",
      "0.025021395432638174\n"
     ]
    },
    {
     "name": "stderr",
     "output_type": "stream",
     "text": [
      " 96%|█████████████████████████████████████████████████████████████████████████████   | 963/1000 [02:03<00:04,  7.41it/s]"
     ]
    },
    {
     "name": "stdout",
     "output_type": "stream",
     "text": [
      "0.035921805324084496\n"
     ]
    },
    {
     "name": "stderr",
     "output_type": "stream",
     "text": [
      " 98%|██████████████████████████████████████████████████████████████████████████████▋ | 984/1000 [02:06<00:01,  8.13it/s]"
     ]
    },
    {
     "name": "stdout",
     "output_type": "stream",
     "text": [
      "0.0026800594567812264\n"
     ]
    },
    {
     "name": "stderr",
     "output_type": "stream",
     "text": [
      "100%|███████████████████████████████████████████████████████████████████████████████| 1000/1000 [02:08<00:00,  7.79it/s]\n"
     ]
    }
   ],
   "source": [
    "patterns = seq_scout(dfa, filter_data(dfa, \"1\", \"class\"),\"1\", numerics_max, 30, 1000, 1, 0.5)"
   ]
  },
  {
   "cell_type": "code",
   "execution_count": 34,
   "id": "275c5509",
   "metadata": {},
   "outputs": [
    {
     "name": "stdout",
     "output_type": "stream",
     "text": [
      "[(-0.06657357776676726, ((frozenset({'jump'}), (('idxBallAcceleration', (-inf, inf)), ('idxBallSpeed', (24, 4057)), ('idxDistanceBall', (875, 6722)), ('idxDistanceCeil', (29, 2787)), ('idxDistanceWall', (-inf, inf)), ('idxPlayerSpeed', (363, 3604)), ('idxTime', (-inf, inf)))),)), (-0.06436646997882979, ((frozenset({'camera'}), (('idxBallAcceleration', (924, 4590)), ('idxBallSpeed', (-inf, inf)), ('idxDistanceBall', (-inf, inf)), ('idxDistanceCeil', (95, 1263)), ('idxDistanceWall', (-inf, inf)), ('idxPlayerSpeed', (27, 3810)), ('idxTime', (-inf, inf)))),)), (-0.06402864735822711, ((frozenset({'slide'}), (('idxBallAcceleration', (652, 5652)), ('idxBallSpeed', (-inf, inf)), ('idxDistanceBall', (-inf, inf)), ('idxDistanceCeil', (-inf, inf)), ('idxDistanceWall', (96, 5553)), ('idxPlayerSpeed', (168, 3507)), ('idxTime', (-inf, inf)))), (frozenset({'right'}), (('idxBallAcceleration', (620, 5039)), ('idxBallSpeed', (-inf, inf)), ('idxDistanceBall', (4348, 6168)), ('idxDistanceCeil', (80, 224)), ('idxDistanceWall', (-inf, inf)), ('idxPlayerSpeed', (712, 4520)), ('idxTime', (-inf, inf)))))), (-0.05357866762758434, ((frozenset({'right'}), (('idxBallAcceleration', (1154, 1744)), ('idxBallSpeed', (-inf, inf)), ('idxDistanceBall', (2280, 6747)), ('idxDistanceCeil', (-inf, inf)), ('idxDistanceWall', (-inf, inf)), ('idxPlayerSpeed', (1539, 2489)), ('idxTime', (-inf, inf)))),)), (-0.052430070717535256, ((frozenset({'right'}), (('idxBallAcceleration', (764, 3624)), ('idxBallSpeed', (529, 3951)), ('idxDistanceBall', (3451, 6262)), ('idxDistanceCeil', (-inf, inf)), ('idxDistanceWall', (979, 5430)), ('idxPlayerSpeed', (712, 5742)), ('idxTime', (-inf, inf)))),)), (-0.04484032250799514, ((frozenset({'accelerate'}), (('idxBallAcceleration', (-inf, inf)), ('idxBallSpeed', (-inf, inf)), ('idxDistanceBall', (-inf, inf)), ('idxDistanceCeil', (-inf, inf)), ('idxDistanceWall', (87, 5251)), ('idxPlayerSpeed', (658, 2825)), ('idxTime', (1709, 5311)))), (frozenset({'right'}), (('idxBallAcceleration', (-inf, inf)), ('idxBallSpeed', (825, 3988)), ('idxDistanceBall', (624, 6517)), ('idxDistanceCeil', (-inf, inf)), ('idxDistanceWall', (-inf, inf)), ('idxPlayerSpeed', (-inf, inf)), ('idxTime', (-inf, inf)))), (frozenset({'right'}), (('idxBallAcceleration', (31, 5698)), ('idxBallSpeed', (57, 5818)), ('idxDistanceBall', (2205, 6647)), ('idxDistanceCeil', (667, 1708)), ('idxDistanceWall', (-inf, inf)), ('idxPlayerSpeed', (-inf, inf)), ('idxTime', (-inf, inf)))))), (-0.04053871447232107, ((frozenset({'right'}), (('idxBallAcceleration', (1234, 3864)), ('idxBallSpeed', (-inf, inf)), ('idxDistanceBall', (-inf, inf)), ('idxDistanceCeil', (-inf, inf)), ('idxDistanceWall', (189, 2810)), ('idxPlayerSpeed', (-inf, inf)), ('idxTime', (-inf, inf)))),)), (-0.040133327327597855, ((frozenset({'jump'}), (('idxBallAcceleration', (-inf, inf)), ('idxBallSpeed', (698, 4778)), ('idxDistanceBall', (-inf, inf)), ('idxDistanceCeil', (-inf, inf)), ('idxDistanceWall', (-inf, inf)), ('idxPlayerSpeed', (-inf, inf)), ('idxTime', (1323, 5031)))), (frozenset({'jump', 'right', 'accelerate'}), (('idxBallAcceleration', (-inf, inf)), ('idxBallSpeed', (-inf, inf)), ('idxDistanceBall', (-inf, inf)), ('idxDistanceCeil', (13, 2582)), ('idxDistanceWall', (-inf, inf)), ('idxPlayerSpeed', (297, 5749)), ('idxTime', (-inf, inf)))), (frozenset({'right'}), (('idxBallAcceleration', (-inf, inf)), ('idxBallSpeed', (1565, 5890)), ('idxDistanceBall', (-inf, inf)), ('idxDistanceCeil', (109, 1122)), ('idxDistanceWall', (801, 4704)), ('idxPlayerSpeed', (-inf, inf)), ('idxTime', (554, 5840)))))), (-0.035921805324084496, ((frozenset({'jump'}), (('idxBallAcceleration', (107, 1413)), ('idxBallSpeed', (-inf, inf)), ('idxDistanceBall', (-inf, inf)), ('idxDistanceCeil', (-inf, inf)), ('idxDistanceWall', (-inf, inf)), ('idxPlayerSpeed', (-inf, inf)), ('idxTime', (2085, 5809)))),)), (-0.03348948245574524, ((frozenset({'right'}), (('idxBallAcceleration', (354, 982)), ('idxBallSpeed', (-inf, inf)), ('idxDistanceBall', (-inf, inf)), ('idxDistanceCeil', (-inf, inf)), ('idxDistanceWall', (540, 2625)), ('idxPlayerSpeed', (354, 4790)), ('idxTime', (790, 4281)))), (frozenset({'right', 'boost'}), (('idxBallAcceleration', (-inf, inf)), ('idxBallSpeed', (-inf, inf)), ('idxDistanceBall', (-inf, inf)), ('idxDistanceCeil', (-inf, inf)), ('idxDistanceWall', (2626, 4726)), ('idxPlayerSpeed', (-inf, inf)), ('idxTime', (-inf, inf)))))), (-0.025021395432638174, ((frozenset({'right'}), (('idxBallAcceleration', (-inf, inf)), ('idxBallSpeed', (-inf, inf)), ('idxDistanceBall', (126, 5535)), ('idxDistanceCeil', (-inf, inf)), ('idxDistanceWall', (-inf, inf)), ('idxPlayerSpeed', (1387, 4748)), ('idxTime', (-inf, inf)))), (frozenset({'right'}), (('idxBallAcceleration', (-inf, inf)), ('idxBallSpeed', (4185, 5740)), ('idxDistanceBall', (-inf, inf)), ('idxDistanceCeil', (92, 2165)), ('idxDistanceWall', (-inf, inf)), ('idxPlayerSpeed', (-inf, inf)), ('idxTime', (2353, 5199)))))), (-0.024773658844196206, ((frozenset({'right'}), (('idxBallAcceleration', (4238, 5228)), ('idxBallSpeed', (2, 2280)), ('idxDistanceBall', (854, 6250)), ('idxDistanceCeil', (544, 2227)), ('idxDistanceWall', (-inf, inf)), ('idxPlayerSpeed', (298, 5581)), ('idxTime', (-inf, inf)))),)), (-0.02376019098238818, ((frozenset({'right'}), (('idxBallAcceleration', (1496, 4088)), ('idxBallSpeed', (310, 5353)), ('idxDistanceBall', (3115, 5397)), ('idxDistanceCeil', (3, 2472)), ('idxDistanceWall', (402, 2942)), ('idxPlayerSpeed', (287, 3129)), ('idxTime', (-inf, inf)))), (frozenset({'accelerate'}), (('idxBallAcceleration', (625, 5394)), ('idxBallSpeed', (6, 4183)), ('idxDistanceBall', (-inf, inf)), ('idxDistanceCeil', (-inf, inf)), ('idxDistanceWall', (-inf, inf)), ('idxPlayerSpeed', (4163, 5889)), ('idxTime', (2120, 5651)))))), (-0.01605783523264718, ((frozenset({'right'}), (('idxBallAcceleration', (-inf, inf)), ('idxBallSpeed', (-inf, inf)), ('idxDistanceBall', (-inf, inf)), ('idxDistanceCeil', (-inf, inf)), ('idxDistanceWall', (31, 2529)), ('idxPlayerSpeed', (-inf, inf)), ('idxTime', (-inf, inf)))), (frozenset({'right'}), (('idxBallAcceleration', (-inf, inf)), ('idxBallSpeed', (-inf, inf)), ('idxDistanceBall', (3387, 6692)), ('idxDistanceCeil', (1429, 2505)), ('idxDistanceWall', (875, 5131)), ('idxPlayerSpeed', (-inf, inf)), ('idxTime', (-inf, inf)))), (frozenset({'slide'}), (('idxBallAcceleration', (1790, 4195)), ('idxBallSpeed', (1, 2773)), ('idxDistanceBall', (4147, 6706)), ('idxDistanceCeil', (-inf, inf)), ('idxDistanceWall', (-inf, inf)), ('idxPlayerSpeed', (-inf, inf)), ('idxTime', (1581, 5844)))))), (-0.015742534120084684, ((frozenset({'jump', 'right', 'slide'}), (('idxBallAcceleration', (205, 5648)), ('idxBallSpeed', (-inf, inf)), ('idxDistanceBall', (1547, 5875)), ('idxDistanceCeil', (2044, 3560)), ('idxDistanceWall', (-inf, inf)), ('idxPlayerSpeed', (-inf, inf)), ('idxTime', (-inf, inf)))), (frozenset({'jump'}), (('idxBallAcceleration', (-inf, inf)), ('idxBallSpeed', (2, 996)), ('idxDistanceBall', (-inf, inf)), ('idxDistanceCeil', (1261, 3455)), ('idxDistanceWall', (1421, 5340)), ('idxPlayerSpeed', (1182, 5437)), ('idxTime', (3345, 5879)))))), (-0.013963334984910593, ((frozenset({'jump', 'right'}), (('idxBallAcceleration', (3250, 4941)), ('idxBallSpeed', (1266, 4758)), ('idxDistanceBall', (3991, 6626)), ('idxDistanceCeil', (-inf, inf)), ('idxDistanceWall', (792, 4876)), ('idxPlayerSpeed', (1286, 5793)), ('idxTime', (-inf, inf)))),)), (-0.013738119904508808, ((frozenset({'accelerate'}), (('idxBallAcceleration', (-inf, inf)), ('idxBallSpeed', (142, 5465)), ('idxDistanceBall', (-inf, inf)), ('idxDistanceCeil', (-inf, inf)), ('idxDistanceWall', (52, 789)), ('idxPlayerSpeed', (1025, 1668)), ('idxTime', (1988, 5484)))),)), (-0.013715598396468628, ((frozenset({'right'}), (('idxBallAcceleration', (14, 5596)), ('idxBallSpeed', (-inf, inf)), ('idxDistanceBall', (-inf, inf)), ('idxDistanceCeil', (-inf, inf)), ('idxDistanceWall', (-inf, inf)), ('idxPlayerSpeed', (3264, 4124)), ('idxTime', (-inf, inf)))), (frozenset({'accelerate'}), (('idxBallAcceleration', (-inf, inf)), ('idxBallSpeed', (29, 1727)), ('idxDistanceBall', (-inf, inf)), ('idxDistanceCeil', (-inf, inf)), ('idxDistanceWall', (106, 4988)), ('idxPlayerSpeed', (445, 2349)), ('idxTime', (-inf, inf)))))), (-0.012071528309535607, ((frozenset({'boost'}), (('idxBallAcceleration', (569, 2303)), ('idxBallSpeed', (1907, 5900)), ('idxDistanceBall', (-inf, inf)), ('idxDistanceCeil', (-inf, inf)), ('idxDistanceWall', (-inf, inf)), ('idxPlayerSpeed', (-inf, inf)), ('idxTime', (-inf, inf)))), (frozenset({'boost'}), (('idxBallAcceleration', (620, 4501)), ('idxBallSpeed', (575, 3461)), ('idxDistanceBall', (-inf, inf)), ('idxDistanceCeil', (199, 2365)), ('idxDistanceWall', (-inf, inf)), ('idxPlayerSpeed', (5413, 5933)), ('idxTime', (-inf, inf)))))), (-0.01105806044772758, ((frozenset({'right', 'boost'}), (('idxBallAcceleration', (-inf, inf)), ('idxBallSpeed', (104, 2186)), ('idxDistanceBall', (-inf, inf)), ('idxDistanceCeil', (2801, 3485)), ('idxDistanceWall', (207, 2194)), ('idxPlayerSpeed', (235, 3993)), ('idxTime', (158, 5760)))), (frozenset({'jump', 'right'}), (('idxBallAcceleration', (447, 3646)), ('idxBallSpeed', (1661, 4507)), ('idxDistanceBall', (-inf, inf)), ('idxDistanceCeil', (1372, 2320)), ('idxDistanceWall', (-inf, inf)), ('idxPlayerSpeed', (727, 5270)), ('idxTime', (-inf, inf)))), (frozenset({'right', 'accelerate'}), (('idxBallAcceleration', (-inf, inf)), ('idxBallSpeed', (-inf, inf)), ('idxDistanceBall', (-inf, inf)), ('idxDistanceCeil', (-inf, inf)), ('idxDistanceWall', (-inf, inf)), ('idxPlayerSpeed', (3915, 4962)), ('idxTime', (-inf, inf)))))), (-0.010675194811044548, ((frozenset({'jump'}), (('idxBallAcceleration', (657, 2103)), ('idxBallSpeed', (-inf, inf)), ('idxDistanceBall', (1099, 5283)), ('idxDistanceCeil', (-inf, inf)), ('idxDistanceWall', (68, 5364)), ('idxPlayerSpeed', (2799, 5110)), ('idxTime', (1425, 5435)))),)), (-0.009053646232151704, ((frozenset({'slide'}), (('idxBallAcceleration', (31, 4538)), ('idxBallSpeed', (-inf, inf)), ('idxDistanceBall', (3210, 6500)), ('idxDistanceCeil', (3251, 3596)), ('idxDistanceWall', (489, 2764)), ('idxPlayerSpeed', (1572, 5902)), ('idxTime', (569, 5731)))), (frozenset({'boost'}), (('idxBallAcceleration', (-inf, inf)), ('idxBallSpeed', (1649, 3193)), ('idxDistanceBall', (768, 2973)), ('idxDistanceCeil', (8, 3522)), ('idxDistanceWall', (-inf, inf)), ('idxPlayerSpeed', (-inf, inf)), ('idxTime', (612, 5606)))), (frozenset({'right'}), (('idxBallAcceleration', (-inf, inf)), ('idxBallSpeed', (-inf, inf)), ('idxDistanceBall', (-inf, inf)), ('idxDistanceCeil', (-inf, inf)), ('idxDistanceWall', (-inf, inf)), ('idxPlayerSpeed', (-inf, inf)), ('idxTime', (5621, 5817)))))), (-0.009053646232151704, ((frozenset({'right', 'slide'}), (('idxBallAcceleration', (121, 5711)), ('idxBallSpeed', (-inf, inf)), ('idxDistanceBall', (-inf, inf)), ('idxDistanceCeil', (-inf, inf)), ('idxDistanceWall', (341, 2729)), ('idxPlayerSpeed', (-inf, inf)), ('idxTime', (-inf, inf)))), (frozenset({'jump'}), (('idxBallAcceleration', (226, 3511)), ('idxBallSpeed', (1717, 5867)), ('idxDistanceBall', (1856, 6303)), ('idxDistanceCeil', (-inf, inf)), ('idxDistanceWall', (38, 4335)), ('idxPlayerSpeed', (-inf, inf)), ('idxTime', (287, 5329)))), (frozenset({'camera'}), (('idxBallAcceleration', (1285, 5340)), ('idxBallSpeed', (-inf, inf)), ('idxDistanceBall', (-inf, inf)), ('idxDistanceCeil', (110, 2756)), ('idxDistanceWall', (367, 1678)), ('idxPlayerSpeed', (3318, 4045)), ('idxTime', (-inf, inf)))))), (-0.009053646232151704, ((frozenset({'camera'}), (('idxBallAcceleration', (-inf, inf)), ('idxBallSpeed', (-inf, inf)), ('idxDistanceBall', (4166, 6042)), ('idxDistanceCeil', (82, 1017)), ('idxDistanceWall', (246, 716)), ('idxPlayerSpeed', (-inf, inf)), ('idxTime', (168, 4056)))), (frozenset({'accelerate'}), (('idxBallAcceleration', (-inf, inf)), ('idxBallSpeed', (5369, 5656)), ('idxDistanceBall', (2428, 5910)), ('idxDistanceCeil', (-inf, inf)), ('idxDistanceWall', (-inf, inf)), ('idxPlayerSpeed', (-inf, inf)), ('idxTime', (-inf, inf)))))), (-0.009053646232151704, ((frozenset({'jump'}), (('idxBallAcceleration', (-inf, inf)), ('idxBallSpeed', (-inf, inf)), ('idxDistanceBall', (784, 4921)), ('idxDistanceCeil', (-inf, inf)), ('idxDistanceWall', (-inf, inf)), ('idxPlayerSpeed', (-inf, inf)), ('idxTime', (-inf, inf)))), (frozenset({'right'}), (('idxBallAcceleration', (4662, 5706)), ('idxBallSpeed', (-inf, inf)), ('idxDistanceBall', (90, 3858)), ('idxDistanceCeil', (915, 2676)), ('idxDistanceWall', (-inf, inf)), ('idxPlayerSpeed', (-inf, inf)), ('idxTime', (-inf, inf)))), (frozenset({'right'}), (('idxBallAcceleration', (-inf, inf)), ('idxBallSpeed', (-inf, inf)), ('idxDistanceBall', (-inf, inf)), ('idxDistanceCeil', (1303, 3327)), ('idxDistanceWall', (-inf, inf)), ('idxPlayerSpeed', (-inf, inf)), ('idxTime', (-inf, inf)))), (frozenset({'right'}), (('idxBallAcceleration', (-inf, inf)), ('idxBallSpeed', (-inf, inf)), ('idxDistanceBall', (-inf, inf)), ('idxDistanceCeil', (-inf, inf)), ('idxDistanceWall', (35, 3238)), ('idxPlayerSpeed', (-inf, inf)), ('idxTime', (-inf, inf)))), (frozenset({'accelerate'}), (('idxBallAcceleration', (-inf, inf)), ('idxBallSpeed', (1318, 4040)), ('idxDistanceBall', (497, 5549)), ('idxDistanceCeil', (-inf, inf)), ('idxDistanceWall', (1499, 4141)), ('idxPlayerSpeed', (-inf, inf)), ('idxTime', (-inf, inf)))), (frozenset({'camera'}), (('idxBallAcceleration', (-inf, inf)), ('idxBallSpeed', (-inf, inf)), ('idxDistanceBall', (2418, 6577)), ('idxDistanceCeil', (112, 3158)), ('idxDistanceWall', (-inf, inf)), ('idxPlayerSpeed', (94, 3597)), ('idxTime', (-inf, inf)))))), (-0.009031124724111527, ((frozenset({'slide'}), (('idxBallAcceleration', (316, 4914)), ('idxBallSpeed', (1855, 3637)), ('idxDistanceBall', (3844, 6088)), ('idxDistanceCeil', (90, 2149)), ('idxDistanceWall', (-inf, inf)), ('idxPlayerSpeed', (-inf, inf)), ('idxTime', (241, 3957)))), (frozenset({'accelerate'}), (('idxBallAcceleration', (-inf, inf)), ('idxBallSpeed', (-inf, inf)), ('idxDistanceBall', (879, 3562)), ('idxDistanceCeil', (99, 2639)), ('idxDistanceWall', (-inf, inf)), ('idxPlayerSpeed', (2168, 5898)), ('idxTime', (-inf, inf)))))), (-0.009031124724111527, ((frozenset({'slide'}), (('idxBallAcceleration', (525, 3246)), ('idxBallSpeed', (208, 3427)), ('idxDistanceBall', (-inf, inf)), ('idxDistanceCeil', (-inf, inf)), ('idxDistanceWall', (-inf, inf)), ('idxPlayerSpeed', (118, 5075)), ('idxTime', (49, 2089)))), (frozenset({'right'}), (('idxBallAcceleration', (1577, 3499)), ('idxBallSpeed', (-inf, inf)), ('idxDistanceBall', (-inf, inf)), ('idxDistanceCeil', (-inf, inf)), ('idxDistanceWall', (260, 2160)), ('idxPlayerSpeed', (3060, 4372)), ('idxTime', (-inf, inf)))), (frozenset({'right'}), (('idxBallAcceleration', (-inf, inf)), ('idxBallSpeed', (-inf, inf)), ('idxDistanceBall', (3144, 6181)), ('idxDistanceCeil', (644, 1878)), ('idxDistanceWall', (-inf, inf)), ('idxPlayerSpeed', (-inf, inf)), ('idxTime', (1228, 5411)))))), (-0.00871582361154903, ((frozenset({'slide'}), (('idxBallAcceleration', (20, 2940)), ('idxBallSpeed', (-inf, inf)), ('idxDistanceBall', (1216, 4923)), ('idxDistanceCeil', (2234, 3598)), ('idxDistanceWall', (-inf, inf)), ('idxPlayerSpeed', (-inf, inf)), ('idxTime', (-inf, inf)))), (frozenset({'jump'}), (('idxBallAcceleration', (-inf, inf)), ('idxBallSpeed', (28, 1083)), ('idxDistanceBall', (3251, 3875)), ('idxDistanceCeil', (2453, 3585)), ('idxDistanceWall', (484, 4294)), ('idxPlayerSpeed', (1547, 4907)), ('idxTime', (92, 1952)))), (frozenset({'jump'}), (('idxBallAcceleration', (-inf, inf)), ('idxBallSpeed', (3467, 5747)), ('idxDistanceBall', (2011, 6311)), ('idxDistanceCeil', (-inf, inf)), ('idxDistanceWall', (-inf, inf)), ('idxPlayerSpeed', (185, 2810)), ('idxTime', (111, 5226)))))), (-0.00871582361154903, ((frozenset({'jump', 'accelerate'}), (('idxBallAcceleration', (4606, 5615)), ('idxBallSpeed', (2192, 3406)), ('idxDistanceBall', (2129, 5222)), ('idxDistanceCeil', (150, 3078)), ('idxDistanceWall', (-inf, inf)), ('idxPlayerSpeed', (-inf, inf)), ('idxTime', (-inf, inf)))),)), (-0.008378000990946355, ((frozenset({'jump'}), (('idxBallAcceleration', (687, 5744)), ('idxBallSpeed', (-inf, inf)), ('idxDistanceBall', (761, 1846)), ('idxDistanceCeil', (785, 1948)), ('idxDistanceWall', (36, 4589)), ('idxPlayerSpeed', (1963, 3173)), ('idxTime', (76, 858)))), (frozenset({'boost'}), (('idxBallAcceleration', (-inf, inf)), ('idxBallSpeed', (-inf, inf)), ('idxDistanceBall', (976, 5374)), ('idxDistanceCeil', (-inf, inf)), ('idxDistanceWall', (477, 4633)), ('idxPlayerSpeed', (-inf, inf)), ('idxTime', (-inf, inf)))), (frozenset({'accelerate'}), (('idxBallAcceleration', (-inf, inf)), ('idxBallSpeed', (-inf, inf)), ('idxDistanceBall', (397, 6653)), ('idxDistanceCeil', (352, 2391)), ('idxDistanceWall', (-inf, inf)), ('idxPlayerSpeed', (-inf, inf)), ('idxTime', (1685, 5472))))))]\n"
     ]
    }
   ],
   "source": [
    "print(patterns)"
   ]
  },
  {
   "cell_type": "code",
   "execution_count": 36,
   "id": "bf26e5f0",
   "metadata": {},
   "outputs": [
    {
     "name": "stdout",
     "output_type": "stream",
     "text": [
      "done\n"
     ]
    }
   ],
   "source": [
    "import pickle\n",
    "with open(\"pattern.dmp\", \"wb\") as f:\n",
    "    pickle.dump(patterns,f)\n",
    "print(\"done\")"
   ]
  },
  {
   "cell_type": "code",
   "execution_count": 37,
   "id": "508924fc",
   "metadata": {},
   "outputs": [
    {
     "name": "stdout",
     "output_type": "stream",
     "text": [
      "[(-0.06657357776676726, ((frozenset({'jump'}), (('idxBallAcceleration', (-inf, inf)), ('idxBallSpeed', (24, 4057)), ('idxDistanceBall', (875, 6722)), ('idxDistanceCeil', (29, 2787)), ('idxDistanceWall', (-inf, inf)), ('idxPlayerSpeed', (363, 3604)), ('idxTime', (-inf, inf)))),)), (-0.06436646997882979, ((frozenset({'camera'}), (('idxBallAcceleration', (924, 4590)), ('idxBallSpeed', (-inf, inf)), ('idxDistanceBall', (-inf, inf)), ('idxDistanceCeil', (95, 1263)), ('idxDistanceWall', (-inf, inf)), ('idxPlayerSpeed', (27, 3810)), ('idxTime', (-inf, inf)))),)), (-0.06402864735822711, ((frozenset({'slide'}), (('idxBallAcceleration', (652, 5652)), ('idxBallSpeed', (-inf, inf)), ('idxDistanceBall', (-inf, inf)), ('idxDistanceCeil', (-inf, inf)), ('idxDistanceWall', (96, 5553)), ('idxPlayerSpeed', (168, 3507)), ('idxTime', (-inf, inf)))), (frozenset({'right'}), (('idxBallAcceleration', (620, 5039)), ('idxBallSpeed', (-inf, inf)), ('idxDistanceBall', (4348, 6168)), ('idxDistanceCeil', (80, 224)), ('idxDistanceWall', (-inf, inf)), ('idxPlayerSpeed', (712, 4520)), ('idxTime', (-inf, inf)))))), (-0.05357866762758434, ((frozenset({'right'}), (('idxBallAcceleration', (1154, 1744)), ('idxBallSpeed', (-inf, inf)), ('idxDistanceBall', (2280, 6747)), ('idxDistanceCeil', (-inf, inf)), ('idxDistanceWall', (-inf, inf)), ('idxPlayerSpeed', (1539, 2489)), ('idxTime', (-inf, inf)))),)), (-0.052430070717535256, ((frozenset({'right'}), (('idxBallAcceleration', (764, 3624)), ('idxBallSpeed', (529, 3951)), ('idxDistanceBall', (3451, 6262)), ('idxDistanceCeil', (-inf, inf)), ('idxDistanceWall', (979, 5430)), ('idxPlayerSpeed', (712, 5742)), ('idxTime', (-inf, inf)))),)), (-0.04484032250799514, ((frozenset({'accelerate'}), (('idxBallAcceleration', (-inf, inf)), ('idxBallSpeed', (-inf, inf)), ('idxDistanceBall', (-inf, inf)), ('idxDistanceCeil', (-inf, inf)), ('idxDistanceWall', (87, 5251)), ('idxPlayerSpeed', (658, 2825)), ('idxTime', (1709, 5311)))), (frozenset({'right'}), (('idxBallAcceleration', (-inf, inf)), ('idxBallSpeed', (825, 3988)), ('idxDistanceBall', (624, 6517)), ('idxDistanceCeil', (-inf, inf)), ('idxDistanceWall', (-inf, inf)), ('idxPlayerSpeed', (-inf, inf)), ('idxTime', (-inf, inf)))), (frozenset({'right'}), (('idxBallAcceleration', (31, 5698)), ('idxBallSpeed', (57, 5818)), ('idxDistanceBall', (2205, 6647)), ('idxDistanceCeil', (667, 1708)), ('idxDistanceWall', (-inf, inf)), ('idxPlayerSpeed', (-inf, inf)), ('idxTime', (-inf, inf)))))), (-0.04053871447232107, ((frozenset({'right'}), (('idxBallAcceleration', (1234, 3864)), ('idxBallSpeed', (-inf, inf)), ('idxDistanceBall', (-inf, inf)), ('idxDistanceCeil', (-inf, inf)), ('idxDistanceWall', (189, 2810)), ('idxPlayerSpeed', (-inf, inf)), ('idxTime', (-inf, inf)))),)), (-0.040133327327597855, ((frozenset({'jump'}), (('idxBallAcceleration', (-inf, inf)), ('idxBallSpeed', (698, 4778)), ('idxDistanceBall', (-inf, inf)), ('idxDistanceCeil', (-inf, inf)), ('idxDistanceWall', (-inf, inf)), ('idxPlayerSpeed', (-inf, inf)), ('idxTime', (1323, 5031)))), (frozenset({'jump', 'right', 'accelerate'}), (('idxBallAcceleration', (-inf, inf)), ('idxBallSpeed', (-inf, inf)), ('idxDistanceBall', (-inf, inf)), ('idxDistanceCeil', (13, 2582)), ('idxDistanceWall', (-inf, inf)), ('idxPlayerSpeed', (297, 5749)), ('idxTime', (-inf, inf)))), (frozenset({'right'}), (('idxBallAcceleration', (-inf, inf)), ('idxBallSpeed', (1565, 5890)), ('idxDistanceBall', (-inf, inf)), ('idxDistanceCeil', (109, 1122)), ('idxDistanceWall', (801, 4704)), ('idxPlayerSpeed', (-inf, inf)), ('idxTime', (554, 5840)))))), (-0.035921805324084496, ((frozenset({'jump'}), (('idxBallAcceleration', (107, 1413)), ('idxBallSpeed', (-inf, inf)), ('idxDistanceBall', (-inf, inf)), ('idxDistanceCeil', (-inf, inf)), ('idxDistanceWall', (-inf, inf)), ('idxPlayerSpeed', (-inf, inf)), ('idxTime', (2085, 5809)))),)), (-0.03348948245574524, ((frozenset({'right'}), (('idxBallAcceleration', (354, 982)), ('idxBallSpeed', (-inf, inf)), ('idxDistanceBall', (-inf, inf)), ('idxDistanceCeil', (-inf, inf)), ('idxDistanceWall', (540, 2625)), ('idxPlayerSpeed', (354, 4790)), ('idxTime', (790, 4281)))), (frozenset({'right', 'boost'}), (('idxBallAcceleration', (-inf, inf)), ('idxBallSpeed', (-inf, inf)), ('idxDistanceBall', (-inf, inf)), ('idxDistanceCeil', (-inf, inf)), ('idxDistanceWall', (2626, 4726)), ('idxPlayerSpeed', (-inf, inf)), ('idxTime', (-inf, inf)))))), (-0.025021395432638174, ((frozenset({'right'}), (('idxBallAcceleration', (-inf, inf)), ('idxBallSpeed', (-inf, inf)), ('idxDistanceBall', (126, 5535)), ('idxDistanceCeil', (-inf, inf)), ('idxDistanceWall', (-inf, inf)), ('idxPlayerSpeed', (1387, 4748)), ('idxTime', (-inf, inf)))), (frozenset({'right'}), (('idxBallAcceleration', (-inf, inf)), ('idxBallSpeed', (4185, 5740)), ('idxDistanceBall', (-inf, inf)), ('idxDistanceCeil', (92, 2165)), ('idxDistanceWall', (-inf, inf)), ('idxPlayerSpeed', (-inf, inf)), ('idxTime', (2353, 5199)))))), (-0.024773658844196206, ((frozenset({'right'}), (('idxBallAcceleration', (4238, 5228)), ('idxBallSpeed', (2, 2280)), ('idxDistanceBall', (854, 6250)), ('idxDistanceCeil', (544, 2227)), ('idxDistanceWall', (-inf, inf)), ('idxPlayerSpeed', (298, 5581)), ('idxTime', (-inf, inf)))),)), (-0.02376019098238818, ((frozenset({'right'}), (('idxBallAcceleration', (1496, 4088)), ('idxBallSpeed', (310, 5353)), ('idxDistanceBall', (3115, 5397)), ('idxDistanceCeil', (3, 2472)), ('idxDistanceWall', (402, 2942)), ('idxPlayerSpeed', (287, 3129)), ('idxTime', (-inf, inf)))), (frozenset({'accelerate'}), (('idxBallAcceleration', (625, 5394)), ('idxBallSpeed', (6, 4183)), ('idxDistanceBall', (-inf, inf)), ('idxDistanceCeil', (-inf, inf)), ('idxDistanceWall', (-inf, inf)), ('idxPlayerSpeed', (4163, 5889)), ('idxTime', (2120, 5651)))))), (-0.01605783523264718, ((frozenset({'right'}), (('idxBallAcceleration', (-inf, inf)), ('idxBallSpeed', (-inf, inf)), ('idxDistanceBall', (-inf, inf)), ('idxDistanceCeil', (-inf, inf)), ('idxDistanceWall', (31, 2529)), ('idxPlayerSpeed', (-inf, inf)), ('idxTime', (-inf, inf)))), (frozenset({'right'}), (('idxBallAcceleration', (-inf, inf)), ('idxBallSpeed', (-inf, inf)), ('idxDistanceBall', (3387, 6692)), ('idxDistanceCeil', (1429, 2505)), ('idxDistanceWall', (875, 5131)), ('idxPlayerSpeed', (-inf, inf)), ('idxTime', (-inf, inf)))), (frozenset({'slide'}), (('idxBallAcceleration', (1790, 4195)), ('idxBallSpeed', (1, 2773)), ('idxDistanceBall', (4147, 6706)), ('idxDistanceCeil', (-inf, inf)), ('idxDistanceWall', (-inf, inf)), ('idxPlayerSpeed', (-inf, inf)), ('idxTime', (1581, 5844)))))), (-0.015742534120084684, ((frozenset({'jump', 'right', 'slide'}), (('idxBallAcceleration', (205, 5648)), ('idxBallSpeed', (-inf, inf)), ('idxDistanceBall', (1547, 5875)), ('idxDistanceCeil', (2044, 3560)), ('idxDistanceWall', (-inf, inf)), ('idxPlayerSpeed', (-inf, inf)), ('idxTime', (-inf, inf)))), (frozenset({'jump'}), (('idxBallAcceleration', (-inf, inf)), ('idxBallSpeed', (2, 996)), ('idxDistanceBall', (-inf, inf)), ('idxDistanceCeil', (1261, 3455)), ('idxDistanceWall', (1421, 5340)), ('idxPlayerSpeed', (1182, 5437)), ('idxTime', (3345, 5879)))))), (-0.013963334984910593, ((frozenset({'jump', 'right'}), (('idxBallAcceleration', (3250, 4941)), ('idxBallSpeed', (1266, 4758)), ('idxDistanceBall', (3991, 6626)), ('idxDistanceCeil', (-inf, inf)), ('idxDistanceWall', (792, 4876)), ('idxPlayerSpeed', (1286, 5793)), ('idxTime', (-inf, inf)))),)), (-0.013738119904508808, ((frozenset({'accelerate'}), (('idxBallAcceleration', (-inf, inf)), ('idxBallSpeed', (142, 5465)), ('idxDistanceBall', (-inf, inf)), ('idxDistanceCeil', (-inf, inf)), ('idxDistanceWall', (52, 789)), ('idxPlayerSpeed', (1025, 1668)), ('idxTime', (1988, 5484)))),)), (-0.013715598396468628, ((frozenset({'right'}), (('idxBallAcceleration', (14, 5596)), ('idxBallSpeed', (-inf, inf)), ('idxDistanceBall', (-inf, inf)), ('idxDistanceCeil', (-inf, inf)), ('idxDistanceWall', (-inf, inf)), ('idxPlayerSpeed', (3264, 4124)), ('idxTime', (-inf, inf)))), (frozenset({'accelerate'}), (('idxBallAcceleration', (-inf, inf)), ('idxBallSpeed', (29, 1727)), ('idxDistanceBall', (-inf, inf)), ('idxDistanceCeil', (-inf, inf)), ('idxDistanceWall', (106, 4988)), ('idxPlayerSpeed', (445, 2349)), ('idxTime', (-inf, inf)))))), (-0.012071528309535607, ((frozenset({'boost'}), (('idxBallAcceleration', (569, 2303)), ('idxBallSpeed', (1907, 5900)), ('idxDistanceBall', (-inf, inf)), ('idxDistanceCeil', (-inf, inf)), ('idxDistanceWall', (-inf, inf)), ('idxPlayerSpeed', (-inf, inf)), ('idxTime', (-inf, inf)))), (frozenset({'boost'}), (('idxBallAcceleration', (620, 4501)), ('idxBallSpeed', (575, 3461)), ('idxDistanceBall', (-inf, inf)), ('idxDistanceCeil', (199, 2365)), ('idxDistanceWall', (-inf, inf)), ('idxPlayerSpeed', (5413, 5933)), ('idxTime', (-inf, inf)))))), (-0.01105806044772758, ((frozenset({'right', 'boost'}), (('idxBallAcceleration', (-inf, inf)), ('idxBallSpeed', (104, 2186)), ('idxDistanceBall', (-inf, inf)), ('idxDistanceCeil', (2801, 3485)), ('idxDistanceWall', (207, 2194)), ('idxPlayerSpeed', (235, 3993)), ('idxTime', (158, 5760)))), (frozenset({'jump', 'right'}), (('idxBallAcceleration', (447, 3646)), ('idxBallSpeed', (1661, 4507)), ('idxDistanceBall', (-inf, inf)), ('idxDistanceCeil', (1372, 2320)), ('idxDistanceWall', (-inf, inf)), ('idxPlayerSpeed', (727, 5270)), ('idxTime', (-inf, inf)))), (frozenset({'right', 'accelerate'}), (('idxBallAcceleration', (-inf, inf)), ('idxBallSpeed', (-inf, inf)), ('idxDistanceBall', (-inf, inf)), ('idxDistanceCeil', (-inf, inf)), ('idxDistanceWall', (-inf, inf)), ('idxPlayerSpeed', (3915, 4962)), ('idxTime', (-inf, inf)))))), (-0.010675194811044548, ((frozenset({'jump'}), (('idxBallAcceleration', (657, 2103)), ('idxBallSpeed', (-inf, inf)), ('idxDistanceBall', (1099, 5283)), ('idxDistanceCeil', (-inf, inf)), ('idxDistanceWall', (68, 5364)), ('idxPlayerSpeed', (2799, 5110)), ('idxTime', (1425, 5435)))),)), (-0.009053646232151704, ((frozenset({'slide'}), (('idxBallAcceleration', (31, 4538)), ('idxBallSpeed', (-inf, inf)), ('idxDistanceBall', (3210, 6500)), ('idxDistanceCeil', (3251, 3596)), ('idxDistanceWall', (489, 2764)), ('idxPlayerSpeed', (1572, 5902)), ('idxTime', (569, 5731)))), (frozenset({'boost'}), (('idxBallAcceleration', (-inf, inf)), ('idxBallSpeed', (1649, 3193)), ('idxDistanceBall', (768, 2973)), ('idxDistanceCeil', (8, 3522)), ('idxDistanceWall', (-inf, inf)), ('idxPlayerSpeed', (-inf, inf)), ('idxTime', (612, 5606)))), (frozenset({'right'}), (('idxBallAcceleration', (-inf, inf)), ('idxBallSpeed', (-inf, inf)), ('idxDistanceBall', (-inf, inf)), ('idxDistanceCeil', (-inf, inf)), ('idxDistanceWall', (-inf, inf)), ('idxPlayerSpeed', (-inf, inf)), ('idxTime', (5621, 5817)))))), (-0.009053646232151704, ((frozenset({'right', 'slide'}), (('idxBallAcceleration', (121, 5711)), ('idxBallSpeed', (-inf, inf)), ('idxDistanceBall', (-inf, inf)), ('idxDistanceCeil', (-inf, inf)), ('idxDistanceWall', (341, 2729)), ('idxPlayerSpeed', (-inf, inf)), ('idxTime', (-inf, inf)))), (frozenset({'jump'}), (('idxBallAcceleration', (226, 3511)), ('idxBallSpeed', (1717, 5867)), ('idxDistanceBall', (1856, 6303)), ('idxDistanceCeil', (-inf, inf)), ('idxDistanceWall', (38, 4335)), ('idxPlayerSpeed', (-inf, inf)), ('idxTime', (287, 5329)))), (frozenset({'camera'}), (('idxBallAcceleration', (1285, 5340)), ('idxBallSpeed', (-inf, inf)), ('idxDistanceBall', (-inf, inf)), ('idxDistanceCeil', (110, 2756)), ('idxDistanceWall', (367, 1678)), ('idxPlayerSpeed', (3318, 4045)), ('idxTime', (-inf, inf)))))), (-0.009053646232151704, ((frozenset({'camera'}), (('idxBallAcceleration', (-inf, inf)), ('idxBallSpeed', (-inf, inf)), ('idxDistanceBall', (4166, 6042)), ('idxDistanceCeil', (82, 1017)), ('idxDistanceWall', (246, 716)), ('idxPlayerSpeed', (-inf, inf)), ('idxTime', (168, 4056)))), (frozenset({'accelerate'}), (('idxBallAcceleration', (-inf, inf)), ('idxBallSpeed', (5369, 5656)), ('idxDistanceBall', (2428, 5910)), ('idxDistanceCeil', (-inf, inf)), ('idxDistanceWall', (-inf, inf)), ('idxPlayerSpeed', (-inf, inf)), ('idxTime', (-inf, inf)))))), (-0.009053646232151704, ((frozenset({'jump'}), (('idxBallAcceleration', (-inf, inf)), ('idxBallSpeed', (-inf, inf)), ('idxDistanceBall', (784, 4921)), ('idxDistanceCeil', (-inf, inf)), ('idxDistanceWall', (-inf, inf)), ('idxPlayerSpeed', (-inf, inf)), ('idxTime', (-inf, inf)))), (frozenset({'right'}), (('idxBallAcceleration', (4662, 5706)), ('idxBallSpeed', (-inf, inf)), ('idxDistanceBall', (90, 3858)), ('idxDistanceCeil', (915, 2676)), ('idxDistanceWall', (-inf, inf)), ('idxPlayerSpeed', (-inf, inf)), ('idxTime', (-inf, inf)))), (frozenset({'right'}), (('idxBallAcceleration', (-inf, inf)), ('idxBallSpeed', (-inf, inf)), ('idxDistanceBall', (-inf, inf)), ('idxDistanceCeil', (1303, 3327)), ('idxDistanceWall', (-inf, inf)), ('idxPlayerSpeed', (-inf, inf)), ('idxTime', (-inf, inf)))), (frozenset({'right'}), (('idxBallAcceleration', (-inf, inf)), ('idxBallSpeed', (-inf, inf)), ('idxDistanceBall', (-inf, inf)), ('idxDistanceCeil', (-inf, inf)), ('idxDistanceWall', (35, 3238)), ('idxPlayerSpeed', (-inf, inf)), ('idxTime', (-inf, inf)))), (frozenset({'accelerate'}), (('idxBallAcceleration', (-inf, inf)), ('idxBallSpeed', (1318, 4040)), ('idxDistanceBall', (497, 5549)), ('idxDistanceCeil', (-inf, inf)), ('idxDistanceWall', (1499, 4141)), ('idxPlayerSpeed', (-inf, inf)), ('idxTime', (-inf, inf)))), (frozenset({'camera'}), (('idxBallAcceleration', (-inf, inf)), ('idxBallSpeed', (-inf, inf)), ('idxDistanceBall', (2418, 6577)), ('idxDistanceCeil', (112, 3158)), ('idxDistanceWall', (-inf, inf)), ('idxPlayerSpeed', (94, 3597)), ('idxTime', (-inf, inf)))))), (-0.009031124724111527, ((frozenset({'slide'}), (('idxBallAcceleration', (316, 4914)), ('idxBallSpeed', (1855, 3637)), ('idxDistanceBall', (3844, 6088)), ('idxDistanceCeil', (90, 2149)), ('idxDistanceWall', (-inf, inf)), ('idxPlayerSpeed', (-inf, inf)), ('idxTime', (241, 3957)))), (frozenset({'accelerate'}), (('idxBallAcceleration', (-inf, inf)), ('idxBallSpeed', (-inf, inf)), ('idxDistanceBall', (879, 3562)), ('idxDistanceCeil', (99, 2639)), ('idxDistanceWall', (-inf, inf)), ('idxPlayerSpeed', (2168, 5898)), ('idxTime', (-inf, inf)))))), (-0.009031124724111527, ((frozenset({'slide'}), (('idxBallAcceleration', (525, 3246)), ('idxBallSpeed', (208, 3427)), ('idxDistanceBall', (-inf, inf)), ('idxDistanceCeil', (-inf, inf)), ('idxDistanceWall', (-inf, inf)), ('idxPlayerSpeed', (118, 5075)), ('idxTime', (49, 2089)))), (frozenset({'right'}), (('idxBallAcceleration', (1577, 3499)), ('idxBallSpeed', (-inf, inf)), ('idxDistanceBall', (-inf, inf)), ('idxDistanceCeil', (-inf, inf)), ('idxDistanceWall', (260, 2160)), ('idxPlayerSpeed', (3060, 4372)), ('idxTime', (-inf, inf)))), (frozenset({'right'}), (('idxBallAcceleration', (-inf, inf)), ('idxBallSpeed', (-inf, inf)), ('idxDistanceBall', (3144, 6181)), ('idxDistanceCeil', (644, 1878)), ('idxDistanceWall', (-inf, inf)), ('idxPlayerSpeed', (-inf, inf)), ('idxTime', (1228, 5411)))))), (-0.00871582361154903, ((frozenset({'slide'}), (('idxBallAcceleration', (20, 2940)), ('idxBallSpeed', (-inf, inf)), ('idxDistanceBall', (1216, 4923)), ('idxDistanceCeil', (2234, 3598)), ('idxDistanceWall', (-inf, inf)), ('idxPlayerSpeed', (-inf, inf)), ('idxTime', (-inf, inf)))), (frozenset({'jump'}), (('idxBallAcceleration', (-inf, inf)), ('idxBallSpeed', (28, 1083)), ('idxDistanceBall', (3251, 3875)), ('idxDistanceCeil', (2453, 3585)), ('idxDistanceWall', (484, 4294)), ('idxPlayerSpeed', (1547, 4907)), ('idxTime', (92, 1952)))), (frozenset({'jump'}), (('idxBallAcceleration', (-inf, inf)), ('idxBallSpeed', (3467, 5747)), ('idxDistanceBall', (2011, 6311)), ('idxDistanceCeil', (-inf, inf)), ('idxDistanceWall', (-inf, inf)), ('idxPlayerSpeed', (185, 2810)), ('idxTime', (111, 5226)))))), (-0.00871582361154903, ((frozenset({'jump', 'accelerate'}), (('idxBallAcceleration', (4606, 5615)), ('idxBallSpeed', (2192, 3406)), ('idxDistanceBall', (2129, 5222)), ('idxDistanceCeil', (150, 3078)), ('idxDistanceWall', (-inf, inf)), ('idxPlayerSpeed', (-inf, inf)), ('idxTime', (-inf, inf)))),)), (-0.008378000990946355, ((frozenset({'jump'}), (('idxBallAcceleration', (687, 5744)), ('idxBallSpeed', (-inf, inf)), ('idxDistanceBall', (761, 1846)), ('idxDistanceCeil', (785, 1948)), ('idxDistanceWall', (36, 4589)), ('idxPlayerSpeed', (1963, 3173)), ('idxTime', (76, 858)))), (frozenset({'boost'}), (('idxBallAcceleration', (-inf, inf)), ('idxBallSpeed', (-inf, inf)), ('idxDistanceBall', (976, 5374)), ('idxDistanceCeil', (-inf, inf)), ('idxDistanceWall', (477, 4633)), ('idxPlayerSpeed', (-inf, inf)), ('idxTime', (-inf, inf)))), (frozenset({'accelerate'}), (('idxBallAcceleration', (-inf, inf)), ('idxBallSpeed', (-inf, inf)), ('idxDistanceBall', (397, 6653)), ('idxDistanceCeil', (352, 2391)), ('idxDistanceWall', (-inf, inf)), ('idxPlayerSpeed', (-inf, inf)), ('idxTime', (1685, 5472))))))]\n"
     ]
    }
   ],
   "source": [
    "with open(\"pattern.dmp\", \"rb\") as f:\n",
    "    papa = pickle.load(f)\n",
    "print(papa)\n"
   ]
  },
  {
   "cell_type": "code",
   "execution_count": null,
   "id": "55a7be64",
   "metadata": {},
   "outputs": [],
   "source": []
  }
 ],
 "metadata": {
  "kernelspec": {
   "display_name": "Python 3 (ipykernel)",
   "language": "python",
   "name": "python3"
  },
  "language_info": {
   "codemirror_mode": {
    "name": "ipython",
    "version": 3
   },
   "file_extension": ".py",
   "mimetype": "text/x-python",
   "name": "python",
   "nbconvert_exporter": "python",
   "pygments_lexer": "ipython3",
   "version": "3.10.6"
  }
 },
 "nbformat": 4,
 "nbformat_minor": 5
}
