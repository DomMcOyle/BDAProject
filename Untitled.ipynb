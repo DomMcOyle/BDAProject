{
 "cells": [
  {
   "cell_type": "code",
   "execution_count": 18,
   "id": "1fb8d49b",
   "metadata": {},
   "outputs": [],
   "source": [
    "from pyspark.sql.functions import col, lit\n",
    "import numpy as np\n",
    "import math\n",
    "import heapq"
   ]
  },
  {
   "cell_type": "code",
   "execution_count": 19,
   "id": "e1570180",
   "metadata": {},
   "outputs": [
    {
     "ename": "SyntaxError",
     "evalue": "expression cannot contain assignment, perhaps you meant \"==\"? (3485452347.py, line 2)",
     "output_type": "error",
     "traceback": [
      "\u001b[0;36m  Cell \u001b[0;32mIn[19], line 2\u001b[0;36m\u001b[0m\n\u001b[0;31m    return data.filter(col(target_col) = target_class)\u001b[0m\n\u001b[0m                       ^\u001b[0m\n\u001b[0;31mSyntaxError\u001b[0m\u001b[0;31m:\u001b[0m expression cannot contain assignment, perhaps you meant \"==\"?\n"
     ]
    }
   ],
   "source": [
    "\n",
    "\n",
    "def filter_data(data, target_class, target_col):\n",
    "    return data.filter(col(target_col) = target_class)\n",
    "#4: \tdata+ ← FilterData() #ottieni dati con solo la label di interesse (potrebbe essere pre-processabile + distribuita)\n",
    "#5: \tfor all sequence in data+ do\n",
    "#6: \t\tscoresucb.add(sequence, ∞) # idem per questo\n",
    "#7: \tend for\n",
    "\n",
    "\n",
    "\n",
    "def seq_scout(data, data_plus,target_class, numeric_values, top_k, iterations, theta, alpha):\n",
    "    \n",
    "    # create priority queue for patterns to be stored\n",
    "    pi = PriorityQueue(k=top_k, theta=theta) #TODO: la funzione non filtra se theta=1\n",
    "    \n",
    "    # create priority queue for storing each class sequence and its UCB score\n",
    "    scores = PriorityQueue(data_plus)\n",
    "    N = 1\n",
    "    while N<iterations:\n",
    "        seq, quality, Ni = scores.popNext() # pop the sequence to be generalized\n",
    "        \n",
    "        # generalize the sequence and add it to the patterns\n",
    "        gen_seq, new_qual = play_arm(seq, data, target_class, numeric_values, alpha)\n",
    "        pi.add(gen_seq, new_qual)\n",
    "        \n",
    "        # update the quality and put back the sequence in the priority queue\n",
    "        updated_quality = (Ni * mean_quality + quality) / (Ni + 1)\n",
    "        ucb_score = compute_ucb(updated_quality, Ni + 1, N)\n",
    "        scores.add(sequence, ucb_score, Ni + 1, updated_quality)\n",
    "        \n",
    "        N += 1\n",
    "    \n",
    "    return pi.topKNonRedundant()\n",
    "\n",
    "\n",
    "#1: function SEQSCOUT(budget)\n",
    "#2: \tπ ← PriorityQueue()\n",
    "#3: \tscores ← PriorityQueue() # ! sfruttare i dataframe distribuiti di spark\n",
    "\n",
    "#8: \t|while budget do \n",
    "#9: \t|\tseq, qual, Ni ← scores.bestUCB()\n",
    "#10: |\tseqp, qualp ← PlayArm(seq) #calcolo qualità parallelizzabile\n",
    "#11: |\tπ.add(seqp, qualp)\n",
    "#12: |\tscores.update(seq,Ni*qual+qualp/Ni+1 , Ni + 1)\n",
    "#3: |end while # while eseguito per ogni top esempio - non parallelizzabile?\n",
    "#4:  \n",
    "#15: return π.topKNonRedundant() # filtering (remove similar starting from the beginning)\n",
    "#16: end function\n",
    "\n",
    "#- il filtering dei dati penso possa essere fatto automaticamente con una bella filter\n",
    "#- controlla come funziona la max del DataFrame\n",
    "#- possibile parallelizzazione 1 per ogni classe (a livello di container -> 7 esecutori max)\n",
    "#- possibile parallelizzazione sul calcolo della metrica come map + reduce\n",
    "#- priority queue con i dataframe distribuiti non ha senso, ma pi può essere implementata easy come una lista\n",
    "#\tche flitra automaticamente i migliori k"
   ]
  },
  {
   "cell_type": "code",
   "execution_count": 20,
   "id": "b096f5ad",
   "metadata": {},
   "outputs": [
    {
     "name": "stdout",
     "output_type": "stream",
     "text": [
      "[0, 1, 2, 3, 4, 5, 6, 7, 8, 9]\n",
      "[0, 1, 3, 2, 5, 4, 7, 9, 6, 8]\n",
      "[0, 1, 3, 2, 2.7, 4, 7, 9, 6, 8, 5]\n"
     ]
    }
   ],
   "source": [
    "# Create example data and heapify\n",
    "a = list(range(10))\n",
    "print(a)\n",
    "a.reverse()\n",
    "heapq.heapify(a)\n",
    "print(a)\n",
    "heapq.heappush(a,2.7)\n",
    "print(a)"
   ]
  },
  {
   "cell_type": "code",
   "execution_count": 38,
   "id": "4eace0b4",
   "metadata": {},
   "outputs": [],
   "source": [
    "def read_dataset(path):\n",
    "    DISCRETE_INPUTS = {'up', 'accelerate', 'slow', 'goal', 'left', 'boost', 'camera', 'down', 'right', 'slide', 'jump'}\n",
    "    data = []\n",
    "    with open(path, \"r\") as file:\n",
    "        dict_headers = next(file).split()\n",
    "        new_line = dict()\n",
    "        for line in file:\n",
    "            if len(line.split()) <= 1:\n",
    "                if new_line:\n",
    "                    data.append(new_line)\n",
    "                new_line = {\"sequence\": [] ,\"class\": line.strip()}\n",
    "            else:\n",
    "                if len(dict_headers) != len(line.split()):\n",
    "                    raise ValueError('Number of data and variables do not match')\n",
    "\n",
    "                numerics = {}\n",
    "                buttons = []\n",
    "\n",
    "                for i, value in enumerate(line.split()):\n",
    "                    if dict_headers[i] in DISCRETE_INPUTS:\n",
    "                        if value == '1':\n",
    "                            buttons.append(dict_headers[i])\n",
    "                    else:\n",
    "                        numerics[dict_headers[i]] = float(value)\n",
    "\n",
    "                state = [buttons, numerics]\n",
    "                new_line[\"sequence\"].append(state)\n",
    "        data.append(new_line)\n",
    "    return data\n"
   ]
  },
  {
   "cell_type": "code",
   "execution_count": 39,
   "id": "0f442b5d",
   "metadata": {},
   "outputs": [],
   "source": [
    "data = read_dataset(\"/vagrant/rocket_league_skillshots.data\")\n",
    "# in case of bigger datasets, single splits could be generated on different nodes\n",
    "# and after joined as single json file"
   ]
  },
  {
   "cell_type": "code",
   "execution_count": 40,
   "id": "316e3982",
   "metadata": {},
   "outputs": [],
   "source": [
    "import json\n",
    "spark = SparkSession.builder.appName(\"abalone\").getOrCreate()\n",
    "with open(\"source.json\", \"w\") as s:\n",
    "    s.write(json.dumps(data))"
   ]
  },
  {
   "cell_type": "code",
   "execution_count": 64,
   "id": "13eb44c4",
   "metadata": {},
   "outputs": [],
   "source": [
    "df = spark.read.format(\"json\").load(\"source.json\")"
   ]
  },
  {
   "cell_type": "code",
   "execution_count": 68,
   "id": "a08bea92",
   "metadata": {},
   "outputs": [
    {
     "name": "stdout",
     "output_type": "stream",
     "text": [
      "root\n",
      " |-- class: string (nullable = true)\n",
      " |-- sequence: array (nullable = true)\n",
      " |    |-- element: array (containsNull = true)\n",
      " |    |    |-- element: string (containsNull = true)\n",
      "\n"
     ]
    }
   ],
   "source": [
    "df.printSchema()"
   ]
  },
  {
   "cell_type": "code",
   "execution_count": null,
   "id": "c5ef4382",
   "metadata": {},
   "outputs": [],
   "source": [
    "schema = StructType([\n",
    "    StructField(\"class\", IntegerType(), False),\n",
    "    StructField(\"sequence\", ArrayType(\n",
    "        ArrayType(ArrayType\n",
    "        )\n",
    "    ,False), False)\n",
    "])"
   ]
  },
  {
   "cell_type": "code",
   "execution_count": 67,
   "id": "33521a89",
   "metadata": {},
   "outputs": [
    {
     "name": "stdout",
     "output_type": "stream",
     "text": [
      "+--------------------+\n",
      "|            sequence|\n",
      "+--------------------+\n",
      "|[[[\"right\",\"jump\"...|\n",
      "|[[[\"boost\",\"right...|\n",
      "|[[[\"right\",\"jump\"...|\n",
      "|[[[\"right\",\"slide...|\n",
      "|[[[\"right\"], {\"Ba...|\n",
      "|[[[\"boost\",\"right...|\n",
      "|[[[\"down\",\"right\"...|\n",
      "|[[[\"right\"], {\"Ba...|\n",
      "|[[[\"right\",\"jump\"...|\n",
      "|[[[\"slide\"], {\"Ba...|\n",
      "|[[[\"boost\",\"right...|\n",
      "|[[[\"right\"], {\"Ba...|\n",
      "|[[[\"right\",\"slide...|\n",
      "|[[[\"right\",\"slide...|\n",
      "|[[[\"right\",\"slide...|\n",
      "|[[[\"right\",\"slide...|\n",
      "|[[[\"down\",\"slide\"...|\n",
      "|[[[\"right\"], {\"Ba...|\n",
      "|[[[\"right\"], {\"Ba...|\n",
      "|[[[\"right\"], {\"Ba...|\n",
      "+--------------------+\n",
      "only showing top 20 rows\n",
      "\n"
     ]
    }
   ],
   "source": [
    "df.select(col(\"sequence\")).show()"
   ]
  },
  {
   "cell_type": "code",
   "execution_count": 70,
   "id": "0c920c8f",
   "metadata": {},
   "outputs": [],
   "source": [
    "df = df.withColumn(\"UCB\", lit(-np.inf)).withColumn(\"Ni\", lit(0)).withColumn(\"WRAcc\", lit(0))\n"
   ]
  },
  {
   "cell_type": "code",
   "execution_count": 71,
   "id": "2b66f585",
   "metadata": {},
   "outputs": [
    {
     "name": "stdout",
     "output_type": "stream",
     "text": [
      "+-----+--------------------+---------+---+-----+\n",
      "|class|            sequence|      UCB| Ni|WRAcc|\n",
      "+-----+--------------------+---------+---+-----+\n",
      "|    6|[[[\"right\",\"jump\"...|-Infinity|  0|    0|\n",
      "|   -1|[[[\"boost\",\"right...|-Infinity|  0|    0|\n",
      "|   -1|[[[\"right\",\"jump\"...|-Infinity|  0|    0|\n",
      "|   -1|[[[\"right\",\"slide...|-Infinity|  0|    0|\n",
      "|   -1|[[[\"right\"], {\"Ba...|-Infinity|  0|    0|\n",
      "|    6|[[[\"boost\",\"right...|-Infinity|  0|    0|\n",
      "|    1|[[[\"down\",\"right\"...|-Infinity|  0|    0|\n",
      "|    7|[[[\"right\"], {\"Ba...|-Infinity|  0|    0|\n",
      "|    1|[[[\"right\",\"jump\"...|-Infinity|  0|    0|\n",
      "|    6|[[[\"slide\"], {\"Ba...|-Infinity|  0|    0|\n",
      "|    2|[[[\"boost\",\"right...|-Infinity|  0|    0|\n",
      "|    1|[[[\"right\"], {\"Ba...|-Infinity|  0|    0|\n",
      "|    7|[[[\"right\",\"slide...|-Infinity|  0|    0|\n",
      "|    6|[[[\"right\",\"slide...|-Infinity|  0|    0|\n",
      "|    2|[[[\"right\",\"slide...|-Infinity|  0|    0|\n",
      "|    1|[[[\"right\",\"slide...|-Infinity|  0|    0|\n",
      "|    2|[[[\"down\",\"slide\"...|-Infinity|  0|    0|\n",
      "|    1|[[[\"right\"], {\"Ba...|-Infinity|  0|    0|\n",
      "|   -1|[[[\"right\"], {\"Ba...|-Infinity|  0|    0|\n",
      "|    5|[[[\"right\"], {\"Ba...|-Infinity|  0|    0|\n",
      "+-----+--------------------+---------+---+-----+\n",
      "only showing top 20 rows\n",
      "\n"
     ]
    }
   ],
   "source": [
    "df.show()"
   ]
  },
  {
   "cell_type": "code",
   "execution_count": 63,
   "id": "c8a81947",
   "metadata": {},
   "outputs": [
    {
     "data": {
      "text/plain": [
       "StructType([StructField('class', StringType(), True), StructField('sequence', ArrayType(ArrayType(StringType(), True), True), True), StructField('UCB', DoubleType(), False), StructField('Ni', IntegerType(), False), StructField('WRAcc', IntegerType(), False)])"
      ]
     },
     "execution_count": 63,
     "metadata": {},
     "output_type": "execute_result"
    }
   ],
   "source": [
    "df.schema"
   ]
  },
  {
   "cell_type": "code",
   "execution_count": 72,
   "id": "7fdfbc79",
   "metadata": {},
   "outputs": [],
   "source": [
    "a = df.select(df.columns[2], df.columns[3], df.columns[4],df.columns[1]).take(1)\n",
    "a = a[0][\"sequence\"]\n",
    "#tuple([tuple([frozenset(i[0]), tuple(sorted(i[1].items()))]) for i in a])"
   ]
  },
  {
   "cell_type": "code",
   "execution_count": 73,
   "id": "e44b97d1",
   "metadata": {},
   "outputs": [
    {
     "data": {
      "text/plain": [
       "[['[\"right\",\"jump\"]',\n",
       "  '{\"BallAcceleration\":1636.7987723122642,\"Time\":0.0,\"DistanceWall\":3498.01,\"DistanceCeil\":2012.98,\"DistanceBall\":299.6682700921136,\"PlayerSpeed\":104267.42623178152,\"BallSpeed\":99035.84933750001}'],\n",
       " ['[\"boost\",\"right\",\"jump\"]',\n",
       "  '{\"BallAcceleration\":3198.029396508704,\"Time\":0.13889319999999827,\"DistanceWall\":3494.08,\"DistanceCeil\":2012.98,\"DistanceBall\":229.89677966426592,\"PlayerSpeed\":124248.03198843835,\"BallSpeed\":102233.87873400871}'],\n",
       " ['[\"boost\"]',\n",
       "  '{\"BallAcceleration\":0.0,\"Time\":0.1736165000000014,\"DistanceWall\":3494.08,\"DistanceCeil\":2012.98,\"DistanceBall\":237.35059911447462,\"PlayerSpeed\":124248.03198843835,\"BallSpeed\":102968.35898954592}'],\n",
       " ['[\"right\"]',\n",
       "  '{\"BallAcceleration\":9914.766241818943,\"Time\":0.3125095999999985,\"DistanceWall\":3500.08,\"DistanceCeil\":2012.98,\"DistanceBall\":151.8809207899399,\"PlayerSpeed\":115248.01600895349,\"BallSpeed\":112883.12523136486}'],\n",
       " ['[\"right\",\"jump\"]',\n",
       "  '{\"BallAcceleration\":5907.747166307177,\"Time\":0.6250190999999994,\"DistanceWall\":3521.65,\"DistanceCeil\":2013.0,\"DistanceBall\":154.55610437637202,\"PlayerSpeed\":125091.25617324338,\"BallSpeed\":118790.87239767204}'],\n",
       " ['[\"boost\"]',\n",
       "  '{\"BallAcceleration\":0.0,\"Time\":0.833354400000001,\"DistanceWall\":3533.4,\"DistanceCeil\":2013.1,\"DistanceBall\":149.49661400847845,\"PlayerSpeed\":134706.20667586182,\"BallSpeed\":128733.31106982373}'],\n",
       " ['[\"right\"]',\n",
       "  '{\"BallAcceleration\":-581.0951350222022,\"Time\":0.9722643999999967,\"DistanceWall\":3548.04,\"DistanceCeil\":2013.0,\"DistanceBall\":148.71516230700888,\"PlayerSpeed\":125937.15823774967,\"BallSpeed\":128152.21593480153}'],\n",
       " ['[\"boost\",\"right\"]',\n",
       "  '{\"BallAcceleration\":647.2447550631623,\"Time\":1.041724399999996,\"DistanceWall\":3548.04,\"DistanceCeil\":2013.0,\"DistanceBall\":192.94075178665597,\"PlayerSpeed\":125937.15823774967,\"BallSpeed\":128799.46068986469}'],\n",
       " ['[\"right\",\"jump\"]',\n",
       "  '{\"BallAcceleration\":0.0,\"Time\":1.2153415999999986,\"DistanceWall\":3576.77,\"DistanceCeil\":2013.03,\"DistanceBall\":221.11355295413262,\"PlayerSpeed\":126848.41392386425,\"BallSpeed\":132047.8507246521}'],\n",
       " ['[\"right\"]',\n",
       "  '{\"BallAcceleration\":12766.909897323174,\"Time\":1.4584216999999988,\"DistanceWall\":3693.18,\"DistanceCeil\":2013.15,\"DistanceBall\":155.58719291766914,\"PlayerSpeed\":151895.3078735482,\"BallSpeed\":144814.76062197526}'],\n",
       " ['[\"boost\",\"right\"]',\n",
       "  '{\"BallAcceleration\":-337.20655214751605,\"Time\":1.493144400000002,\"DistanceWall\":3736.42,\"DistanceCeil\":2013.05,\"DistanceBall\":143.67157443280146,\"PlayerSpeed\":150965.60308891558,\"BallSpeed\":144477.55406982775}'],\n",
       " ['[\"right\"]',\n",
       "  '{\"BallAcceleration\":740.4545964530262,\"Time\":1.5973244000000015,\"DistanceWall\":3781.4,\"DistanceCeil\":2013.06,\"DistanceBall\":139.33980156437713,\"PlayerSpeed\":146909.56629505105,\"BallSpeed\":145218.00866628077}'],\n",
       " ['[\"right\",\"jump\"]',\n",
       "  '{\"BallAcceleration\":860.1059881738911,\"Time\":1.805677499999998,\"DistanceWall\":3869.59,\"DistanceCeil\":2013.14,\"DistanceBall\":192.7529242320334,\"PlayerSpeed\":145352.91552631478,\"BallSpeed\":146078.11465445466}'],\n",
       " ['[\"right\"]',\n",
       "  '{\"BallAcceleration\":4154.8881744843675,\"Time\":1.9445706000000023,\"DistanceWall\":3968.51,\"DistanceCeil\":2013.09,\"DistanceBall\":175.696281690877,\"PlayerSpeed\":158377.18523827856,\"BallSpeed\":150233.00282893903}'],\n",
       " ['[\"right\",\"slide\"]',\n",
       "  '{\"BallAcceleration\":2909.1949808090285,\"Time\":2.0140244000000003,\"DistanceWall\":4019.92,\"DistanceCeil\":2013.0,\"DistanceBall\":158.84181344973373,\"PlayerSpeed\":157493.8236439766,\"BallSpeed\":153142.19780974806}'],\n",
       " ['[\"right\"]',\n",
       "  '{\"BallAcceleration\":-648.5783137179969,\"Time\":2.152934400000003,\"DistanceWall\":3967.36,\"DistanceCeil\":2013.01,\"DistanceBall\":145.82514083655127,\"PlayerSpeed\":148187.79233121735,\"BallSpeed\":152493.61949603006}'],\n",
       " ['[\"right\",\"slide\"]',\n",
       "  '{\"BallAcceleration\":-1554.7753869008739,\"Time\":2.2571087,\"DistanceWall\":3925.57,\"DistanceCeil\":2013.11,\"DistanceBall\":149.18332480542188,\"PlayerSpeed\":146921.80253794874,\"BallSpeed\":150938.8441091292}'],\n",
       " ['[\"right\",\"slide\",\"jump\"]',\n",
       "  '{\"BallAcceleration\":-875.1533075232292,\"Time\":2.326551499999997,\"DistanceWall\":3889.69,\"DistanceCeil\":2013.16,\"DistanceBall\":151.30884508183917,\"PlayerSpeed\":151460.4105963007,\"BallSpeed\":150063.69080160596}'],\n",
       " ['[\"right\",\"jump\"]',\n",
       "  '{\"BallAcceleration\":8347.386885530548,\"Time\":2.4654599000000026,\"DistanceWall\":3864.04,\"DistanceCeil\":2013.16,\"DistanceBall\":189.92224777524083,\"PlayerSpeed\":158823.87978197736,\"BallSpeed\":158411.0776871365}'],\n",
       " ['[\"right\",\"slide\"]',\n",
       "  '{\"BallAcceleration\":0.0,\"Time\":2.673799599999999,\"DistanceWall\":3830.95,\"DistanceCeil\":2013.08,\"DistanceBall\":167.63235188948445,\"PlayerSpeed\":177024.81111414862,\"BallSpeed\":162625.25464392055}'],\n",
       " ['[\"goal\",\"slide\"]',\n",
       "  '{\"BallAcceleration\":0.0,\"Time\":2.7432498999999986,\"DistanceWall\":3829.96,\"DistanceCeil\":2013.15,\"DistanceBall\":153.46173040859412,\"PlayerSpeed\":172570.00418960417,\"BallSpeed\":162273.94707407593}'],\n",
       " ['[\"goal\"]',\n",
       "  '{\"BallAcceleration\":-403.7625680959609,\"Time\":2.8127002999999995,\"DistanceWall\":3840.91,\"DistanceCeil\":2013.1,\"DistanceBall\":144.31392205882284,\"PlayerSpeed\":167269.98460572655,\"BallSpeed\":161870.18450597997}'],\n",
       " ['[\"accelerate\",\"camera\"]',\n",
       "  '{\"BallAcceleration\":0.0,\"Time\":3.2641278000000007,\"DistanceWall\":3925.61,\"DistanceCeil\":2010.67,\"DistanceBall\":215.19507568715395,\"PlayerSpeed\":150952.87668673293,\"BallSpeed\":171985.05951971526}'],\n",
       " ['[\"accelerate\"]',\n",
       "  '{\"BallAcceleration\":-1125.6720544665004,\"Time\":3.3335782000000016,\"DistanceWall\":3945.12,\"DistanceCeil\":1986.9,\"DistanceBall\":206.44352690263747,\"PlayerSpeed\":148911.0124503893,\"BallSpeed\":170859.38746524876}'],\n",
       " ['[\"accelerate\",\"camera\",\"right\"]',\n",
       "  '{\"BallAcceleration\":0.0,\"Time\":3.4377575,\"DistanceWall\":3970.36,\"DistanceCeil\":1960.75,\"DistanceBall\":238.540115075012,\"PlayerSpeed\":197271.879734543,\"BallSpeed\":169158.0558471869}'],\n",
       " ['[\"accelerate\",\"right\"]',\n",
       "  '{\"BallAcceleration\":33405.14487051504,\"Time\":3.7156243999999994,\"DistanceWall\":4015.56,\"DistanceCeil\":1937.96,\"DistanceBall\":238.22356684425657,\"PlayerSpeed\":192221.3530204176,\"BallSpeed\":202563.20071770193}'],\n",
       " ['[\"boost\",\"right\"]',\n",
       "  '{\"BallAcceleration\":-4319.103108214447,\"Time\":4.1670703999999965,\"DistanceWall\":3892.04,\"DistanceCeil\":1948.52,\"DistanceBall\":336.9098189426958,\"PlayerSpeed\":192416.65830951332,\"BallSpeed\":198244.09760948748}'],\n",
       " ['[\"right\"]',\n",
       "  '{\"BallAcceleration\":-585.174527325551,\"Time\":4.340696400000002,\"DistanceWall\":3842.44,\"DistanceCeil\":1972.0,\"DistanceBall\":359.8487951904245,\"PlayerSpeed\":193543.01024061808,\"BallSpeed\":197658.92308216193}'],\n",
       " ['[\"slow\",\"right\",\"slide\"]',\n",
       "  '{\"BallAcceleration\":-195896.92308216193,\"Time\":4.618612299999999,\"DistanceWall\":3802.64,\"DistanceCeil\":2005.09,\"DistanceBall\":5586.82633731352,\"PlayerSpeed\":188025.31446058,\"BallSpeed\":1762.0}'],\n",
       " ['[\"right\",\"slide\",\"jump\"]',\n",
       "  '{\"BallAcceleration\":2163.0,\"Time\":4.653337500000003,\"DistanceWall\":3804.8,\"DistanceCeil\":1997.84,\"DistanceBall\":5743.826949639065,\"PlayerSpeed\":191541.33890625281,\"BallSpeed\":3925.0}'],\n",
       " ['[\"right\",\"jump\"]',\n",
       "  '{\"BallAcceleration\":-3648.0,\"Time\":4.7922993,\"DistanceWall\":3784.07,\"DistanceCeil\":1854.1100000000001,\"DistanceBall\":5978.528854985982,\"PlayerSpeed\":159439.70939825498,\"BallSpeed\":277.0}'],\n",
       " ['[\"boost\",\"right\"]',\n",
       "  '{\"BallAcceleration\":0.0,\"Time\":5.070104400000002,\"DistanceWall\":3750.84,\"DistanceCeil\":1567.31,\"DistanceBall\":5868.428914811868,\"PlayerSpeed\":140658.6089153451,\"BallSpeed\":620.0}']]"
      ]
     },
     "execution_count": 73,
     "metadata": {},
     "output_type": "execute_result"
    }
   ],
   "source": [
    "a"
   ]
  },
  {
   "cell_type": "code",
   "execution_count": 28,
   "id": "e9075253",
   "metadata": {},
   "outputs": [],
   "source": [
    "class PriorityQueue(object):\n",
    "    def __init__(self, data=None, k=None,theta=None, cap_length=False):\n",
    "        self.k = k\n",
    "        self.theta=theta\n",
    "        self.cap_length=cap_length if k is not None else False\n",
    "        if data is not None:  \n",
    "            self.heap = [tuple(x) for x in data.collect()]\n",
    "            print(type(self.heap[0][-1]))\n",
    "            self.seq_set = set([i[-1] for i in self.heap])\n",
    "            heapq.heapify(self.heap)\n",
    "            if cap_length and len(self.heap)>self.k:\n",
    "                heap = heapq.nlargest(self.k, self.heap)\n",
    "        else:\n",
    "            self.heap = []\n",
    "            self.seq_set = set()\n",
    "\n",
    "    def add(self, elem):\n",
    "        if elem[-1] not in seq_set:\n",
    "            heapq.heappush(self.heap, elem)\n",
    "            if cap_length and len(self.heap)>self.k:\n",
    "                heap = heapq.nlargest(self.k, self.heap)\n",
    "                #TODO add filtering if necessary\n",
    "    def get_first(self):\n",
    "        return heapq.heappop(self.heap)\n",
    "    \n",
    "    def get_top_k(self):\n",
    "        if theta == 1:\n",
    "            return heap.nlargest(self.k)\n",
    "        else:\n",
    "            return 0\n",
    "            #TODO add filtering\n",
    "            \n",
    "    \n",
    "        "
   ]
  },
  {
   "cell_type": "code",
   "execution_count": 29,
   "id": "f34e6043",
   "metadata": {},
   "outputs": [
    {
     "name": "stdout",
     "output_type": "stream",
     "text": [
      "+---------+---+-----+--------------------+\n",
      "|      UCB| Ni|WRAcc|            sequence|\n",
      "+---------+---+-----+--------------------+\n",
      "|-Infinity|  0|    0|[[[right, jump], ...|\n",
      "|-Infinity|  0|    0|[[[boost, right, ...|\n",
      "+---------+---+-----+--------------------+\n",
      "\n",
      "<class 'list'>\n"
     ]
    },
    {
     "ename": "TypeError",
     "evalue": "unhashable type: 'list'",
     "output_type": "error",
     "traceback": [
      "\u001b[0;31m---------------------------------------------------------------------------\u001b[0m",
      "\u001b[0;31mTypeError\u001b[0m                                 Traceback (most recent call last)",
      "Cell \u001b[0;32mIn[29], line 3\u001b[0m\n\u001b[1;32m      1\u001b[0m data \u001b[38;5;241m=\u001b[39m df\u001b[38;5;241m.\u001b[39mselect(df\u001b[38;5;241m.\u001b[39mcolumns[\u001b[38;5;241m2\u001b[39m], df\u001b[38;5;241m.\u001b[39mcolumns[\u001b[38;5;241m3\u001b[39m], df\u001b[38;5;241m.\u001b[39mcolumns[\u001b[38;5;241m4\u001b[39m],df\u001b[38;5;241m.\u001b[39mcolumns[\u001b[38;5;241m1\u001b[39m])\u001b[38;5;241m.\u001b[39mlimit(\u001b[38;5;241m2\u001b[39m)\n\u001b[1;32m      2\u001b[0m data\u001b[38;5;241m.\u001b[39mshow()\n\u001b[0;32m----> 3\u001b[0m pq \u001b[38;5;241m=\u001b[39m \u001b[43mPriorityQueue\u001b[49m\u001b[43m(\u001b[49m\u001b[43mdata\u001b[49m\u001b[43m)\u001b[49m\n",
      "Cell \u001b[0;32mIn[28], line 9\u001b[0m, in \u001b[0;36mPriorityQueue.__init__\u001b[0;34m(self, data, k, theta, cap_length)\u001b[0m\n\u001b[1;32m      7\u001b[0m \u001b[38;5;28mself\u001b[39m\u001b[38;5;241m.\u001b[39mheap \u001b[38;5;241m=\u001b[39m [\u001b[38;5;28mtuple\u001b[39m(x) \u001b[38;5;28;01mfor\u001b[39;00m x \u001b[38;5;129;01min\u001b[39;00m data\u001b[38;5;241m.\u001b[39mcollect()]\n\u001b[1;32m      8\u001b[0m \u001b[38;5;28mprint\u001b[39m(\u001b[38;5;28mtype\u001b[39m(\u001b[38;5;28mself\u001b[39m\u001b[38;5;241m.\u001b[39mheap[\u001b[38;5;241m0\u001b[39m][\u001b[38;5;241m-\u001b[39m\u001b[38;5;241m1\u001b[39m]))\n\u001b[0;32m----> 9\u001b[0m \u001b[38;5;28mself\u001b[39m\u001b[38;5;241m.\u001b[39mseq_set \u001b[38;5;241m=\u001b[39m \u001b[38;5;28;43mset\u001b[39;49m\u001b[43m(\u001b[49m\u001b[43m[\u001b[49m\u001b[43mi\u001b[49m\u001b[43m[\u001b[49m\u001b[38;5;241;43m-\u001b[39;49m\u001b[38;5;241;43m1\u001b[39;49m\u001b[43m]\u001b[49m\u001b[43m \u001b[49m\u001b[38;5;28;43;01mfor\u001b[39;49;00m\u001b[43m \u001b[49m\u001b[43mi\u001b[49m\u001b[43m \u001b[49m\u001b[38;5;129;43;01min\u001b[39;49;00m\u001b[43m \u001b[49m\u001b[38;5;28;43mself\u001b[39;49m\u001b[38;5;241;43m.\u001b[39;49m\u001b[43mheap\u001b[49m\u001b[43m]\u001b[49m\u001b[43m)\u001b[49m\n\u001b[1;32m     10\u001b[0m heapq\u001b[38;5;241m.\u001b[39mheapify(\u001b[38;5;28mself\u001b[39m\u001b[38;5;241m.\u001b[39mheap)\n\u001b[1;32m     11\u001b[0m \u001b[38;5;28;01mif\u001b[39;00m cap_length \u001b[38;5;129;01mand\u001b[39;00m \u001b[38;5;28mlen\u001b[39m(\u001b[38;5;28mself\u001b[39m\u001b[38;5;241m.\u001b[39mheap)\u001b[38;5;241m>\u001b[39m\u001b[38;5;28mself\u001b[39m\u001b[38;5;241m.\u001b[39mk:\n",
      "\u001b[0;31mTypeError\u001b[0m: unhashable type: 'list'"
     ]
    }
   ],
   "source": [
    "data = df.select(df.columns[2], df.columns[3], df.columns[4],df.columns[1]).limit(2)\n",
    "data.show()\n",
    "pq = PriorityQueue(data)"
   ]
  },
  {
   "cell_type": "code",
   "execution_count": 75,
   "id": "d704e709",
   "metadata": {},
   "outputs": [
    {
     "data": {
      "text/plain": [
       "[('a', 4), ('b', 1), ('c', 2)]"
      ]
     },
     "execution_count": 75,
     "metadata": {},
     "output_type": "execute_result"
    }
   ],
   "source": [
    "a = {\"a\":4,\"c\":2 ,\"b\":1}\n",
    "sorted(a.items())"
   ]
  }
 ],
 "metadata": {
  "kernelspec": {
   "display_name": "Python 3 (ipykernel)",
   "language": "python",
   "name": "python3"
  },
  "language_info": {
   "codemirror_mode": {
    "name": "ipython",
    "version": 3
   },
   "file_extension": ".py",
   "mimetype": "text/x-python",
   "name": "python",
   "nbconvert_exporter": "python",
   "pygments_lexer": "ipython3",
   "version": "3.10.6"
  }
 },
 "nbformat": 4,
 "nbformat_minor": 5
}
